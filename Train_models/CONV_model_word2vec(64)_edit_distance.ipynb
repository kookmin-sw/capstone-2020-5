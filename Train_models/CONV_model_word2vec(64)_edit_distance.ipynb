{
 "cells": [
  {
   "cell_type": "code",
   "execution_count": 1,
   "metadata": {},
   "outputs": [
    {
     "name": "stderr",
     "output_type": "stream",
     "text": [
      "unable to import 'smart_open.gcs', disabling that module\n"
     ]
    },
    {
     "name": "stdout",
     "output_type": "stream",
     "text": [
      "[PhysicalDevice(name='/physical_device:GPU:0', device_type='GPU')]\n"
     ]
    }
   ],
   "source": [
    "import pickle\n",
    "import os\n",
    "from tqdm import tqdm\n",
    "from gensim.models import Word2Vec\n",
    "import numpy as np\n",
    "from tensorflow.keras.utils import Sequence\n",
    "import gc\n",
    "from tensorflow.keras import backend as K\n",
    "from tensorflow.keras.layers import Dense , Lambda , Reshape , MaxPooling1D, Layer ,Conv1D, UpSampling1D, Conv1D , Flatten\n",
    "from tensorflow.keras.models import Model\n",
    "from tensorflow.keras import Input\n",
    "from tensorflow.keras import metrics\n",
    "import numpy as np\n",
    "\n",
    "import tensorflow as tf\n",
    "gpus = tf.config.experimental.list_physical_devices('GPU')\n",
    "print(gpus)\n",
    "if gpus:\n",
    "    try:\n",
    "        tf.config.experimental.set_memory_growth(gpus[0], True)\n",
    "    except RuntimeError as e:\n",
    "        # 프로그램 시작시에 메모리 증가가 설정되어야만 합니다\n",
    "        print(e)"
   ]
  },
  {
   "cell_type": "code",
   "execution_count": 106,
   "metadata": {},
   "outputs": [],
   "source": [
    "import hashlib\n",
    "\n",
    "def get_latent_vec(model , SAVEPATH, filenames):\n",
    "    result = []\n",
    "    for filename in tqdm(filenames):\n",
    "        data = load_pickle(filename)\n",
    "        vec = model.predict(np.array([data])).reshape(16)\n",
    "        md5 = hashlib.md5(str(vec).encode()).hexdigest()\n",
    "        result.append([md5,vec])\n",
    "        \n",
    "    with open(os.path.join(SAVEPATH,'latent_vec2.pickle'),'wb') as f:\n",
    "        pickle.dump(result,f,protocol=4)\n",
    "    return result"
   ]
  },
  {
   "cell_type": "code",
   "execution_count": 3,
   "metadata": {},
   "outputs": [],
   "source": [
    "def get_edit_cosine(result_dic):\n",
    "    x_data = []\n",
    "    y_data = []\n",
    "    sorted_dic = sorted(result_dic.items() , key=lambda x:x[0])\n",
    "    for i in sorted_dic:\n",
    "        x_data.append(i[0])\n",
    "        y_data.append(i[1])\n",
    "    return x_data , y_data , sorted_dic"
   ]
  },
  {
   "cell_type": "code",
   "execution_count": 69,
   "metadata": {},
   "outputs": [],
   "source": [
    "def load_pickle(filename):\n",
    "    with open(filename , 'rb') as f:\n",
    "        return pickle.load(f)\n"
   ]
  },
  {
   "cell_type": "code",
   "execution_count": 5,
   "metadata": {},
   "outputs": [],
   "source": [
    "from numpy import dot\n",
    "from numpy.linalg import norm\n",
    "import numpy as np\n",
    "def cos_sim(A, B):\n",
    "    return dot(A, B)/(norm(A)*norm(B))"
   ]
  },
  {
   "cell_type": "code",
   "execution_count": 6,
   "metadata": {},
   "outputs": [],
   "source": [
    "class DataSequence(Sequence):\n",
    "    def __init__(self, x_set, batch_size, shuffle=True):\n",
    "        self.x = x_set\n",
    "        self.batch_size = batch_size\n",
    "        self.shuffle = shuffle\n",
    "        self.on_epoch_end()\n",
    "\n",
    "    def on_epoch_end(self):\n",
    "        self.indexes = np.arange(len(self.x))\n",
    "        if self.shuffle == True:\n",
    "            np.random.shuffle(self.indexes)\n",
    "\n",
    "    def __data_generation(self, fn_list):\n",
    "        data_files = []\n",
    "        for fn in fn_list:\n",
    "            try:\n",
    "                with open(fn , 'rb') as f:\n",
    "                    data_files.append(pickle.load(f))\n",
    "            except:\n",
    "                with open('error_pickles.txt','a') as f:\n",
    "                    f.write(fn + '\\n')\n",
    "        data_files = np.array(data_files)\n",
    "        return data_files\n",
    "    \n",
    "    def __len__(self):\n",
    "        return int(np.ceil(len(self.x) / self.batch_size))\n",
    "\n",
    "    def __getitem__(self, index):\n",
    "        indexes = self.indexes[index * self.batch_size:(index + 1) * self.batch_size]\n",
    "        batch_x = self.__data_generation(self.x[indexes])\n",
    "        #print(batch_x.shape)\n",
    "        return batch_x, batch_x"
   ]
  },
  {
   "cell_type": "code",
   "execution_count": 7,
   "metadata": {},
   "outputs": [],
   "source": [
    "with open('edit_dic.pickle','rb') as f:\n",
    "    dicc = pickle.load(f)"
   ]
  },
  {
   "cell_type": "code",
   "execution_count": 78,
   "metadata": {},
   "outputs": [
    {
     "name": "stdout",
     "output_type": "stream",
     "text": [
      "5147572\n"
     ]
    }
   ],
   "source": [
    "fn_list = []\n",
    "BASEPATH = r'E:\\benn4_conv'\n",
    "for dirpath, dirnames, filenames in os.walk(BASEPATH):\n",
    "    for filename in filenames:\n",
    "        fn_list.append(os.path.join(dirpath,filename))\n",
    "print(len(fn_list))\n",
    "\n",
    " "
   ]
  },
  {
   "cell_type": "code",
   "execution_count": 87,
   "metadata": {},
   "outputs": [],
   "source": [
    "img_shape = (32, 64)\n",
    "latent_dim = 16\n",
    "\n",
    "input_img = Input(shape=img_shape)\n",
    "x = Conv1D(64, 3, activation='relu', padding='same')(input_img)\n",
    "x = MaxPooling1D(2)(x)\n",
    "x = Conv1D(32, 3, activation='relu', padding='same')(x)\n",
    "x = MaxPooling1D(2)(x)\n",
    "x = Conv1D(16, 3, activation='relu', padding='same')(x)\n",
    "\n",
    "shape_before_flattening = K.int_shape(x)\n",
    "\n",
    "x = Flatten()(x)\n",
    "\n",
    "latent_vector = Dense(latent_dim,activation='sigmoid')(x)\n",
    "\n",
    "x = Dense(np.prod(shape_before_flattening[1:]),activation='relu')(latent_vector)\n",
    "x = Reshape(shape_before_flattening[1:])(x)\n",
    "x = UpSampling1D(2)(x)\n",
    "x = Conv1D(32, 3, activation='relu', padding='same')(x)\n",
    "x = UpSampling1D(2)(x)\n",
    "x = Conv1D(64, 3, activation='sigmoid', padding='same')(x)"
   ]
  },
  {
   "cell_type": "code",
   "execution_count": 88,
   "metadata": {},
   "outputs": [
    {
     "name": "stdout",
     "output_type": "stream",
     "text": [
      "Model: \"model_6\"\n",
      "_________________________________________________________________\n",
      "Layer (type)                 Output Shape              Param #   \n",
      "=================================================================\n",
      "input_4 (InputLayer)         [(None, 32, 64)]          0         \n",
      "_________________________________________________________________\n",
      "conv1d_15 (Conv1D)           (None, 32, 64)            12352     \n",
      "_________________________________________________________________\n",
      "max_pooling1d_6 (MaxPooling1 (None, 16, 64)            0         \n",
      "_________________________________________________________________\n",
      "conv1d_16 (Conv1D)           (None, 16, 32)            6176      \n",
      "_________________________________________________________________\n",
      "max_pooling1d_7 (MaxPooling1 (None, 8, 32)             0         \n",
      "_________________________________________________________________\n",
      "conv1d_17 (Conv1D)           (None, 8, 16)             1552      \n",
      "_________________________________________________________________\n",
      "flatten_3 (Flatten)          (None, 128)               0         \n",
      "_________________________________________________________________\n",
      "dense_6 (Dense)              (None, 16)                2064      \n",
      "=================================================================\n",
      "Total params: 22,144\n",
      "Trainable params: 22,144\n",
      "Non-trainable params: 0\n",
      "_________________________________________________________________\n"
     ]
    }
   ],
   "source": [
    "encoder = Model(input_img, latent_vector)\n",
    "encoder.summary()"
   ]
  },
  {
   "cell_type": "code",
   "execution_count": 89,
   "metadata": {},
   "outputs": [
    {
     "name": "stdout",
     "output_type": "stream",
     "text": [
      "Model: \"model_7\"\n",
      "_________________________________________________________________\n",
      "Layer (type)                 Output Shape              Param #   \n",
      "=================================================================\n",
      "input_4 (InputLayer)         [(None, 32, 64)]          0         \n",
      "_________________________________________________________________\n",
      "conv1d_15 (Conv1D)           (None, 32, 64)            12352     \n",
      "_________________________________________________________________\n",
      "max_pooling1d_6 (MaxPooling1 (None, 16, 64)            0         \n",
      "_________________________________________________________________\n",
      "conv1d_16 (Conv1D)           (None, 16, 32)            6176      \n",
      "_________________________________________________________________\n",
      "max_pooling1d_7 (MaxPooling1 (None, 8, 32)             0         \n",
      "_________________________________________________________________\n",
      "conv1d_17 (Conv1D)           (None, 8, 16)             1552      \n",
      "_________________________________________________________________\n",
      "flatten_3 (Flatten)          (None, 128)               0         \n",
      "_________________________________________________________________\n",
      "dense_6 (Dense)              (None, 16)                2064      \n",
      "_________________________________________________________________\n",
      "dense_7 (Dense)              (None, 128)               2176      \n",
      "_________________________________________________________________\n",
      "reshape_3 (Reshape)          (None, 8, 16)             0         \n",
      "_________________________________________________________________\n",
      "up_sampling1d_6 (UpSampling1 (None, 16, 16)            0         \n",
      "_________________________________________________________________\n",
      "conv1d_18 (Conv1D)           (None, 16, 32)            1568      \n",
      "_________________________________________________________________\n",
      "up_sampling1d_7 (UpSampling1 (None, 32, 32)            0         \n",
      "_________________________________________________________________\n",
      "conv1d_19 (Conv1D)           (None, 32, 64)            6208      \n",
      "=================================================================\n",
      "Total params: 32,096\n",
      "Trainable params: 32,096\n",
      "Non-trainable params: 0\n",
      "_________________________________________________________________\n"
     ]
    }
   ],
   "source": [
    "autoencoder = Model(input_img, x)\n",
    "autoencoder.compile(optimizer='adam', loss = 'binary_crossentropy', experimental_run_tf_function=False)\n",
    "autoencoder.summary()"
   ]
  },
  {
   "cell_type": "code",
   "execution_count": 90,
   "metadata": {},
   "outputs": [],
   "source": [
    "train_generator = DataSequence(np.array(fn_list), 8192)"
   ]
  },
  {
   "cell_type": "code",
   "execution_count": 91,
   "metadata": {},
   "outputs": [
    {
     "name": "stdout",
     "output_type": "stream",
     "text": [
      "Epoch 1/16\n",
      "629/629 [==============================] - 2220s 4s/step - loss: 0.6694\n",
      "Epoch 2/16\n",
      "629/629 [==============================] - 2090s 3s/step - loss: 0.6663\n",
      "Epoch 3/16\n",
      "629/629 [==============================] - 2089s 3s/step - loss: 0.6661\n",
      "Epoch 4/16\n",
      "629/629 [==============================] - 2096s 3s/step - loss: 0.6659\n",
      "Epoch 5/16\n",
      "629/629 [==============================] - 1993s 3s/step - loss: 0.6658\n",
      "Epoch 6/16\n",
      "629/629 [==============================] - 2023s 3s/step - loss: 0.6657\n",
      "Epoch 7/16\n",
      "629/629 [==============================] - 2010s 3s/step - loss: 0.6656\n",
      "Epoch 8/16\n",
      "629/629 [==============================] - 1986s 3s/step - loss: 0.6655\n",
      "Epoch 9/16\n",
      "629/629 [==============================] - 2000s 3s/step - loss: 0.6654\n",
      "Epoch 10/16\n",
      "629/629 [==============================] - 1943s 3s/step - loss: 0.6654\n",
      "Epoch 11/16\n",
      "629/629 [==============================] - 1994s 3s/step - loss: 0.6653\n",
      "Epoch 12/16\n",
      "629/629 [==============================] - 1976s 3s/step - loss: 0.6653\n",
      "Epoch 13/16\n",
      "629/629 [==============================] - 1914s 3s/step - loss: 0.6653\n",
      "Epoch 14/16\n",
      "629/629 [==============================] - 1954s 3s/step - loss: 0.6653\n",
      "Epoch 15/16\n",
      "629/629 [==============================] - 1917s 3s/step - loss: 0.6652\n",
      "Epoch 16/16\n",
      "629/629 [==============================] - 1946s 3s/step - loss: 0.6652\n"
     ]
    },
    {
     "data": {
      "text/plain": [
       "<tensorflow.python.keras.callbacks.History at 0x1d61ccd9188>"
      ]
     },
     "execution_count": 91,
     "metadata": {},
     "output_type": "execute_result"
    }
   ],
   "source": [
    "autoencoder.fit(train_generator,\n",
    "        epochs=16,\n",
    "        verbose=1)"
   ]
  },
  {
   "cell_type": "code",
   "execution_count": 92,
   "metadata": {},
   "outputs": [
    {
     "name": "stdout",
     "output_type": "stream",
     "text": [
      "Saved lstm_model to disk0511\n"
     ]
    }
   ],
   "source": [
    "model_json = encoder.to_json()\n",
    "with open(\"conv_encoder_0511.json\", \"w\") as json_file : \n",
    "    json_file.write(model_json)\n",
    "\n",
    "encoder.save_weights(\"conv_encoder_0511.h5\")\n",
    "print(\"Saved lstm_model to disk0511\")"
   ]
  },
  {
   "cell_type": "code",
   "execution_count": null,
   "metadata": {},
   "outputs": [],
   "source": []
  },
  {
   "cell_type": "code",
   "execution_count": null,
   "metadata": {},
   "outputs": [],
   "source": []
  },
  {
   "cell_type": "code",
   "execution_count": 93,
   "metadata": {},
   "outputs": [
    {
     "name": "stdout",
     "output_type": "stream",
     "text": [
      "Model: \"model_8\"\n",
      "_________________________________________________________________\n",
      "Layer (type)                 Output Shape              Param #   \n",
      "=================================================================\n",
      "input_5 (InputLayer)         [(None, 64, 64)]          0         \n",
      "_________________________________________________________________\n",
      "conv1d_20 (Conv1D)           (None, 64, 64)            12352     \n",
      "_________________________________________________________________\n",
      "max_pooling1d_8 (MaxPooling1 (None, 32, 64)            0         \n",
      "_________________________________________________________________\n",
      "conv1d_21 (Conv1D)           (None, 32, 32)            6176      \n",
      "_________________________________________________________________\n",
      "max_pooling1d_9 (MaxPooling1 (None, 16, 32)            0         \n",
      "_________________________________________________________________\n",
      "conv1d_22 (Conv1D)           (None, 16, 16)            1552      \n",
      "_________________________________________________________________\n",
      "flatten_4 (Flatten)          (None, 256)               0         \n",
      "_________________________________________________________________\n",
      "dense_8 (Dense)              (None, 16)                4112      \n",
      "=================================================================\n",
      "Total params: 24,192\n",
      "Trainable params: 24,192\n",
      "Non-trainable params: 0\n",
      "_________________________________________________________________\n"
     ]
    }
   ],
   "source": [
    "img_shape = (64, 64)\n",
    "latent_dim = 16\n",
    "\n",
    "input_img = Input(shape=img_shape)\n",
    "x = Conv1D(64, 3, activation='relu', padding='same')(input_img)\n",
    "x = MaxPooling1D(2)(x)\n",
    "x = Conv1D(32, 3, activation='relu', padding='same')(x)\n",
    "x = MaxPooling1D(2)(x)\n",
    "x = Conv1D(16, 3, activation='relu', padding='same')(x)\n",
    "\n",
    "shape_before_flattening = K.int_shape(x)\n",
    "\n",
    "x = Flatten()(x)\n",
    "\n",
    "latent_vector = Dense(latent_dim,activation='sigmoid')(x)\n",
    "\n",
    "x = Dense(np.prod(shape_before_flattening[1:]),activation='relu')(latent_vector)\n",
    "x = Reshape(shape_before_flattening[1:])(x)\n",
    "x = UpSampling1D(2)(x)\n",
    "x = Conv1D(32, 3, activation='relu', padding='same')(x)\n",
    "x = UpSampling1D(2)(x)\n",
    "x = Conv1D(64, 3, activation='sigmoid', padding='same')(x)\n",
    "\n",
    "encoder = Model(input_img, latent_vector)\n",
    "encoder.summary()"
   ]
  },
  {
   "cell_type": "code",
   "execution_count": 94,
   "metadata": {},
   "outputs": [
    {
     "name": "stdout",
     "output_type": "stream",
     "text": [
      "Model: \"model_9\"\n",
      "_________________________________________________________________\n",
      "Layer (type)                 Output Shape              Param #   \n",
      "=================================================================\n",
      "input_5 (InputLayer)         [(None, 64, 64)]          0         \n",
      "_________________________________________________________________\n",
      "conv1d_20 (Conv1D)           (None, 64, 64)            12352     \n",
      "_________________________________________________________________\n",
      "max_pooling1d_8 (MaxPooling1 (None, 32, 64)            0         \n",
      "_________________________________________________________________\n",
      "conv1d_21 (Conv1D)           (None, 32, 32)            6176      \n",
      "_________________________________________________________________\n",
      "max_pooling1d_9 (MaxPooling1 (None, 16, 32)            0         \n",
      "_________________________________________________________________\n",
      "conv1d_22 (Conv1D)           (None, 16, 16)            1552      \n",
      "_________________________________________________________________\n",
      "flatten_4 (Flatten)          (None, 256)               0         \n",
      "_________________________________________________________________\n",
      "dense_8 (Dense)              (None, 16)                4112      \n",
      "_________________________________________________________________\n",
      "dense_9 (Dense)              (None, 256)               4352      \n",
      "_________________________________________________________________\n",
      "reshape_4 (Reshape)          (None, 16, 16)            0         \n",
      "_________________________________________________________________\n",
      "up_sampling1d_8 (UpSampling1 (None, 32, 16)            0         \n",
      "_________________________________________________________________\n",
      "conv1d_23 (Conv1D)           (None, 32, 32)            1568      \n",
      "_________________________________________________________________\n",
      "up_sampling1d_9 (UpSampling1 (None, 64, 32)            0         \n",
      "_________________________________________________________________\n",
      "conv1d_24 (Conv1D)           (None, 64, 64)            6208      \n",
      "=================================================================\n",
      "Total params: 36,320\n",
      "Trainable params: 36,320\n",
      "Non-trainable params: 0\n",
      "_________________________________________________________________\n"
     ]
    }
   ],
   "source": [
    "autoencoder = Model(input_img, x)\n",
    "autoencoder.compile(optimizer='adam', loss = 'binary_crossentropy', experimental_run_tf_function=False)\n",
    "autoencoder.summary()"
   ]
  },
  {
   "cell_type": "code",
   "execution_count": 95,
   "metadata": {},
   "outputs": [
    {
     "name": "stdout",
     "output_type": "stream",
     "text": [
      "3888710\n"
     ]
    }
   ],
   "source": [
    "fn_list = []\n",
    "BASEPATH = r'E:\\benn5_conv'\n",
    "for dirpath, dirnames, filenames in os.walk(BASEPATH):\n",
    "    for filename in filenames:\n",
    "        fn_list.append(os.path.join(dirpath,filename))\n",
    "print(len(fn_list))\n",
    "\n",
    " "
   ]
  },
  {
   "cell_type": "code",
   "execution_count": 96,
   "metadata": {},
   "outputs": [],
   "source": [
    "train_generator = DataSequence(np.array(fn_list), 8192)"
   ]
  },
  {
   "cell_type": "code",
   "execution_count": 97,
   "metadata": {},
   "outputs": [
    {
     "name": "stdout",
     "output_type": "stream",
     "text": [
      "Epoch 1/16\n",
      "475/475 [==============================] - 2671s 6s/step - loss: 0.6690\n",
      "Epoch 2/16\n",
      "475/475 [==============================] - 2704s 6s/step - loss: 0.6657\n",
      "Epoch 3/16\n",
      "475/475 [==============================] - 2667s 6s/step - loss: 0.6655\n",
      "Epoch 4/16\n",
      "475/475 [==============================] - 2748s 6s/step - loss: 0.6653\n",
      "Epoch 5/16\n",
      "475/475 [==============================] - 2602s 5s/step - loss: 0.6652\n",
      "Epoch 6/16\n",
      "475/475 [==============================] - 2538s 5s/step - loss: 0.6652\n",
      "Epoch 7/16\n",
      "475/475 [==============================] - 2663s 6s/step - loss: 0.6651\n",
      "Epoch 8/16\n",
      "475/475 [==============================] - 2504s 5s/step - loss: 0.6650\n",
      "Epoch 9/16\n",
      "475/475 [==============================] - 2660s 6s/step - loss: 0.6650\n",
      "Epoch 10/16\n",
      "475/475 [==============================] - 2562s 5s/step - loss: 0.6649\n",
      "Epoch 11/16\n",
      "475/475 [==============================] - 2482s 5s/step - loss: 0.6649\n",
      "Epoch 12/16\n",
      "475/475 [==============================] - 2659s 6s/step - loss: 0.6649\n",
      "Epoch 13/16\n",
      "475/475 [==============================] - 2616s 6s/step - loss: 0.6649\n",
      "Epoch 14/16\n",
      "475/475 [==============================] - 2705s 6s/step - loss: 0.6649\n",
      "Epoch 15/16\n",
      "475/475 [==============================] - 2738s 6s/step - loss: 0.6648\n",
      "Epoch 16/16\n",
      "475/475 [==============================] - 2583s 5s/step - loss: 0.6648\n"
     ]
    },
    {
     "data": {
      "text/plain": [
       "<tensorflow.python.keras.callbacks.History at 0x1da34af5c48>"
      ]
     },
     "execution_count": 97,
     "metadata": {},
     "output_type": "execute_result"
    }
   ],
   "source": [
    "autoencoder.fit(train_generator,\n",
    "        epochs=16,\n",
    "        verbose=1)"
   ]
  },
  {
   "cell_type": "code",
   "execution_count": 98,
   "metadata": {},
   "outputs": [
    {
     "name": "stdout",
     "output_type": "stream",
     "text": [
      "Saved lstm_model to disk0511_64\n"
     ]
    }
   ],
   "source": [
    "model_json = encoder.to_json()\n",
    "with open(\"conv_encoder_0511_64.json\", \"w\") as json_file : \n",
    "    json_file.write(model_json)\n",
    "\n",
    "encoder.save_weights(\"conv_encoder_0511_64.h5\")\n",
    "print(\"Saved lstm_model to disk0511_64\")"
   ]
  },
  {
   "cell_type": "code",
   "execution_count": 21,
   "metadata": {
    "scrolled": true
   },
   "outputs": [
    {
     "name": "stderr",
     "output_type": "stream",
     "text": [
      "100%|██████████████████████████████████████████████████████████████████████████████████| 33/33 [00:01<00:00, 25.65it/s]\n",
      "  0%|▏                                                                                | 3/1000 [00:00<00:33, 29.83it/s]"
     ]
    },
    {
     "name": "stdout",
     "output_type": "stream",
     "text": [
      "0 32.99999958276749 33\n"
     ]
    },
    {
     "name": "stderr",
     "output_type": "stream",
     "text": [
      "100%|██████████████████████████████████████████████████████████████████████████████| 1000/1000 [00:30<00:00, 32.59it/s]\n",
      "  0%|▎                                                                                | 4/1000 [00:00<00:29, 33.23it/s]"
     ]
    },
    {
     "name": "stdout",
     "output_type": "stream",
     "text": [
      "15 911.6808377504349 1000\n"
     ]
    },
    {
     "name": "stderr",
     "output_type": "stream",
     "text": [
      "100%|██████████████████████████████████████████████████████████████████████████████| 1000/1000 [00:30<00:00, 32.80it/s]\n",
      "  0%|▎                                                                                | 4/1000 [00:00<00:27, 36.52it/s]"
     ]
    },
    {
     "name": "stdout",
     "output_type": "stream",
     "text": [
      "16 889.095743060112 1000\n"
     ]
    },
    {
     "name": "stderr",
     "output_type": "stream",
     "text": [
      "100%|██████████████████████████████████████████████████████████████████████████████| 1000/1000 [00:30<00:00, 32.92it/s]\n",
      "  0%|▏                                                                                | 3/1000 [00:00<00:33, 29.56it/s]"
     ]
    },
    {
     "name": "stdout",
     "output_type": "stream",
     "text": [
      "11 930.4196940660477 1000\n"
     ]
    },
    {
     "name": "stderr",
     "output_type": "stream",
     "text": [
      "100%|██████████████████████████████████████████████████████████████████████████████| 1000/1000 [00:38<00:00, 25.96it/s]\n",
      "  0%|▎                                                                                | 4/1000 [00:00<00:28, 35.00it/s]"
     ]
    },
    {
     "name": "stdout",
     "output_type": "stream",
     "text": [
      "12 926.9788753986359 1000\n"
     ]
    },
    {
     "name": "stderr",
     "output_type": "stream",
     "text": [
      "100%|██████████████████████████████████████████████████████████████████████████████| 1000/1000 [00:30<00:00, 32.98it/s]\n",
      "  0%|▎                                                                                | 4/1000 [00:00<00:28, 35.19it/s]"
     ]
    },
    {
     "name": "stdout",
     "output_type": "stream",
     "text": [
      "14 914.6493907570839 1000\n"
     ]
    },
    {
     "name": "stderr",
     "output_type": "stream",
     "text": [
      "100%|██████████████████████████████████████████████████████████████████████████████| 1000/1000 [00:30<00:00, 32.98it/s]\n",
      "  0%|▎                                                                                | 4/1000 [00:00<00:30, 32.22it/s]"
     ]
    },
    {
     "name": "stdout",
     "output_type": "stream",
     "text": [
      "13 919.5231069922447 1000\n"
     ]
    },
    {
     "name": "stderr",
     "output_type": "stream",
     "text": [
      "100%|██████████████████████████████████████████████████████████████████████████████| 1000/1000 [00:30<00:00, 32.67it/s]\n",
      "  0%|▎                                                                                | 4/1000 [00:00<00:29, 33.79it/s]"
     ]
    },
    {
     "name": "stdout",
     "output_type": "stream",
     "text": [
      "9 967.0284911990166 1000\n"
     ]
    },
    {
     "name": "stderr",
     "output_type": "stream",
     "text": [
      "100%|██████████████████████████████████████████████████████████████████████████████| 1000/1000 [00:30<00:00, 32.75it/s]\n",
      "  0%|▎                                                                                | 4/1000 [00:00<00:27, 36.14it/s]"
     ]
    },
    {
     "name": "stdout",
     "output_type": "stream",
     "text": [
      "10 936.3477792143822 1000\n"
     ]
    },
    {
     "name": "stderr",
     "output_type": "stream",
     "text": [
      "100%|██████████████████████████████████████████████████████████████████████████████| 1000/1000 [00:30<00:00, 32.66it/s]\n",
      "  0%|▎                                                                                | 4/1000 [00:00<00:33, 29.85it/s]"
     ]
    },
    {
     "name": "stdout",
     "output_type": "stream",
     "text": [
      "8 983.5430095791817 1000\n"
     ]
    },
    {
     "name": "stderr",
     "output_type": "stream",
     "text": [
      "100%|██████████████████████████████████████████████████████████████████████████████| 1000/1000 [00:30<00:00, 32.93it/s]\n",
      "  0%|▎                                                                                | 4/1000 [00:00<00:30, 32.53it/s]"
     ]
    },
    {
     "name": "stdout",
     "output_type": "stream",
     "text": [
      "7 980.7621728181839 1000\n"
     ]
    },
    {
     "name": "stderr",
     "output_type": "stream",
     "text": [
      "100%|██████████████████████████████████████████████████████████████████████████████| 1000/1000 [00:30<00:00, 32.87it/s]\n",
      " 10%|████████▎                                                                          | 4/40 [00:00<00:00, 36.79it/s]"
     ]
    },
    {
     "name": "stdout",
     "output_type": "stream",
     "text": [
      "6 978.543732881546 1000\n"
     ]
    },
    {
     "name": "stderr",
     "output_type": "stream",
     "text": [
      "100%|██████████████████████████████████████████████████████████████████████████████████| 40/40 [00:01<00:00, 32.52it/s]\n",
      "  2%|█▏                                                                                | 4/265 [00:00<00:07, 32.88it/s]"
     ]
    },
    {
     "name": "stdout",
     "output_type": "stream",
     "text": [
      "3 39.61249387264252 40\n"
     ]
    },
    {
     "name": "stderr",
     "output_type": "stream",
     "text": [
      "100%|████████████████████████████████████████████████████████████████████████████████| 265/265 [00:08<00:00, 32.90it/s]\n",
      "  0%|▏                                                                                | 3/1000 [00:00<00:41, 23.80it/s]"
     ]
    },
    {
     "name": "stdout",
     "output_type": "stream",
     "text": [
      "4 260.54302674531937 265\n"
     ]
    },
    {
     "name": "stderr",
     "output_type": "stream",
     "text": [
      "100%|██████████████████████████████████████████████████████████████████████████████| 1000/1000 [00:30<00:00, 32.91it/s]\n",
      " 15%|████████████▍                                                                      | 3/20 [00:00<00:00, 29.57it/s]"
     ]
    },
    {
     "name": "stdout",
     "output_type": "stream",
     "text": [
      "5 976.9776102900505 1000\n"
     ]
    },
    {
     "name": "stderr",
     "output_type": "stream",
     "text": [
      "100%|██████████████████████████████████████████████████████████████████████████████████| 20/20 [00:00<00:00, 32.30it/s]\n",
      "  6%|████▌                                                                              | 3/54 [00:00<00:01, 29.77it/s]"
     ]
    },
    {
     "name": "stdout",
     "output_type": "stream",
     "text": [
      "2 19.84092539548874 20\n"
     ]
    },
    {
     "name": "stderr",
     "output_type": "stream",
     "text": [
      "100%|██████████████████████████████████████████████████████████████████████████████████| 54/54 [00:01<00:00, 32.77it/s]"
     ]
    },
    {
     "name": "stdout",
     "output_type": "stream",
     "text": [
      "1 53.91352266073227 54\n"
     ]
    },
    {
     "name": "stderr",
     "output_type": "stream",
     "text": [
      "\n"
     ]
    }
   ],
   "source": [
    "result_dic = {}\n",
    "for i in (dicc):\n",
    "    datas = dicc[i]\n",
    "    split_data = datas[:1000]\n",
    "    size = len(split_data)\n",
    "    total = 0\n",
    "    for data in tqdm(split_data):\n",
    "        data1 = load_pickle(data[0])\n",
    "        pre_1 = encoder.predict(np.array([data1])).reshape(16)\n",
    "\n",
    "        data2 = load_pickle(data[1])\n",
    "        pre_2 = encoder.predict(np.array([data2])).reshape(16)\n",
    "        total += cos_sim(pre_1,pre_2)\n",
    "    print(i,total,size)\n",
    "    result_dic[i] = total/size\n",
    "#         print('index : ',i,'cos : ',cos_sim(pre_1,pre_2))\n",
    "        "
   ]
  },
  {
   "cell_type": "code",
   "execution_count": 30,
   "metadata": {},
   "outputs": [
    {
     "data": {
      "image/png": "[encoded data removed]",
      "text/plain": [
       "<Figure size 432x288 with 1 Axes>"
      ]
     },
     "metadata": {
      "needs_background": "light"
     },
     "output_type": "display_data"
    }
   ],
   "source": [
    "import matplotlib.pyplot as plt\n",
    "plt.plot(x_data1,y_data1,color='red')\n",
    "plt.plot(x_data2 , y_data2 ,color='blue')\n",
    "plt.show()"
   ]
  },
  {
   "cell_type": "code",
   "execution_count": 35,
   "metadata": {},
   "outputs": [],
   "source": [
    "x_data2 , y_data2 , sorted_dic2 = get_edit_cosine(result_dic)"
   ]
  },
  {
   "cell_type": "code",
   "execution_count": 38,
   "metadata": {},
   "outputs": [
    {
     "data": {
      "image/png": "[encoded data removed]",
      "text/plain": [
       "<Figure size 432x288 with 1 Axes>"
      ]
     },
     "metadata": {
      "needs_background": "light"
     },
     "output_type": "display_data"
    }
   ],
   "source": [
    "plt.plot(x_data1,y_data1,color='red')\n",
    "plt.plot(x_data2 , y_data2 ,color='blue')\n",
    "plt.show()"
   ]
  },
  {
   "cell_type": "code",
   "execution_count": 43,
   "metadata": {},
   "outputs": [],
   "source": [
    "x_data3 , y_data3 , sorted_dic3 = get_edit_cosine(result_dic)"
   ]
  },
  {
   "cell_type": "code",
   "execution_count": 44,
   "metadata": {},
   "outputs": [
    {
     "data": {
      "image/png": "[encoded data removed]",
      "text/plain": [
       "<Figure size 432x288 with 1 Axes>"
      ]
     },
     "metadata": {
      "needs_background": "light"
     },
     "output_type": "display_data"
    }
   ],
   "source": [
    "plt.plot(x_data1,y_data1,color='red')#1\n",
    "plt.plot(x_data2 , y_data2 ,color='blue')#2\n",
    "plt.plot(x_data3 , y_data3 ,color='green')#4\n",
    "plt.show()"
   ]
  },
  {
   "cell_type": "code",
   "execution_count": 48,
   "metadata": {},
   "outputs": [],
   "source": [
    "x_data4 , y_data4 , sorted_dic4 = get_edit_cosine(result_dic)"
   ]
  },
  {
   "cell_type": "code",
   "execution_count": 49,
   "metadata": {},
   "outputs": [
    {
     "data": {
      "image/png": "[encoded data removed]",
      "text/plain": [
       "<Figure size 432x288 with 1 Axes>"
      ]
     },
     "metadata": {
      "needs_background": "light"
     },
     "output_type": "display_data"
    }
   ],
   "source": [
    "plt.plot(x_data1,y_data1,color='red')#1\n",
    "plt.plot(x_data2 , y_data2 ,color='blue')#2\n",
    "plt.plot(x_data3 , y_data3 ,color='green')#4\n",
    "plt.plot(x_data4 , y_data4 ,color='black')#9\n",
    "plt.show()"
   ]
  },
  {
   "cell_type": "code",
   "execution_count": 76,
   "metadata": {},
   "outputs": [],
   "source": [
    "x_data5 , y_data5 , sorted_dic5 = get_edit_cosine(result_dic)"
   ]
  },
  {
   "cell_type": "code",
   "execution_count": 78,
   "metadata": {},
   "outputs": [
    {
     "data": {
      "image/png": "[encoded data removed]",
      "text/plain": [
       "<Figure size 432x288 with 1 Axes>"
      ]
     },
     "metadata": {
      "needs_background": "light"
     },
     "output_type": "display_data"
    }
   ],
   "source": [
    "plt.plot(x_data1,y_data1,color='red')#1\n",
    "plt.plot(x_data2 , y_data2 ,color='blue')#2\n",
    "plt.plot(x_data3 , y_data3 ,color='green')#4\n",
    "plt.plot(x_data4 , y_data4 ,color='black')#9\n",
    "plt.plot(x_data5 , y_data5 ,color='brown')#20\n",
    "plt.show()"
   ]
  }
 ],
 "metadata": {
  "kernelspec": {
   "display_name": "Python 3",
   "language": "python",
   "name": "python3"
  },
  "language_info": {
   "codemirror_mode": {
    "name": "ipython",
    "version": 3
   },
   "file_extension": ".py",
   "mimetype": "text/x-python",
   "name": "python",
   "nbconvert_exporter": "python",
   "pygments_lexer": "ipython3",
   "version": "3.7.6"
  }
 },
 "nbformat": 4,
 "nbformat_minor": 4
}
