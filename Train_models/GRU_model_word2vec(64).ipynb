{
 "cells": [
  {
   "cell_type": "code",
   "execution_count": 1,
   "metadata": {},
   "outputs": [
    {
     "name": "stderr",
     "output_type": "stream",
     "text": [
      "Using TensorFlow backend.\n"
     ]
    },
    {
     "name": "stdout",
     "output_type": "stream",
     "text": [
      "[PhysicalDevice(name='/physical_device:GPU:0', device_type='GPU')]\n"
     ]
    }
   ],
   "source": [
    "import numpy as np\n",
    "import keras\n",
    "from keras.models import Sequential , Model\n",
    "from keras.layers import Input , RepeatVector , TimeDistributed  , GRU , Bidirectional , LSTM , Dense\n",
    "from keras import regularizers\n",
    "import os\n",
    "import pickle\n",
    "from tensorflow.keras.preprocessing.sequence import pad_sequences\n",
    "from tqdm import tqdm\n",
    "import matplotlib.pyplot as plt\n",
    "import tensorflow as tf\n",
    "import pandas as pd\n",
    "from keras.models import model_from_json\n",
    "from keras.datasets import mnist\n",
    "from gensim.models.word2vec import Word2Vec\n",
    "\n",
    "gpus = tf.config.experimental.list_physical_devices('GPU')\n",
    "print(gpus)\n",
    "if gpus:\n",
    "    try:\n",
    "        tf.config.experimental.set_memory_growth(gpus[0], True)\n",
    "    except RuntimeError as e:\n",
    "        # 프로그램 시작시에 메모리 증가가 설정되어야만 합니다\n",
    "        print(e)\n"
   ]
  },
  {
   "cell_type": "code",
   "execution_count": 28,
   "metadata": {},
   "outputs": [],
   "source": [
    "def double_model(maxlen , word_vector):\n",
    "    inputs = Input(shape=(maxlen , word_vector))\n",
    "    encoded = GRU(256 , return_sequences=True)(inputs)\n",
    "    encoded = GRU(128, return_sequences=False)(encoded)\n",
    "    decoded = RepeatVector(maxlen)(encoded)\n",
    "    decoded = GRU(128,return_sequences=True)(decoded)\n",
    "    decoded = GRU(word_vector ,return_sequences=True)(decoded)\n",
    "    output = TimeDistributed(Dense(word_vector))(decoded)\n",
    "    sequence_autoencoder = Model(inputs, output)\n",
    "    \n",
    "    encoder = Model(inputs, encoded)\n",
    "    return sequence_autoencoder"
   ]
  },
  {
   "cell_type": "code",
   "execution_count": 3,
   "metadata": {},
   "outputs": [],
   "source": [
    "def data_load(BASEPATH):\n",
    "    data_files = []\n",
    "    filenames = os.listdir(BASEPATH)[:20000]\n",
    "    for filename in tqdm(filenames):\n",
    "        with open(os.path.join(BASEPATH,filename) , 'rb') as f:\n",
    "            data_files.append(pickle.load(f))\n",
    "    return data_files\n",
    "    \n",
    "    "
   ]
  },
  {
   "cell_type": "code",
   "execution_count": 4,
   "metadata": {},
   "outputs": [],
   "source": [
    "def pre_processing(data_files, word_vector, func_len , vector_size ):\n",
    "    unknown = 'unknown'\n",
    "    zero_padding = [0] * vector_size\n",
    "    result_data = []\n",
    "    file = []\n",
    "    for data_file in tqdm(data_files):\n",
    "        for blocks in data_file:\n",
    "            vec_block = []\n",
    "            for block in blocks[:func_len]:\n",
    "                for mnemonic in block:\n",
    "                    try:\n",
    "                        vec_block.append(word_vector[mnemonic])\n",
    "                    except:\n",
    "                        vec_block.append(word_vector[unknown])\n",
    "            if (len(vec_block) >= 15):\n",
    "                if (len(vec_block) < func_len):\n",
    "                    for i in range(0, func_len - len(vec_block)):\n",
    "                        vec_block.append(zero_padding)\n",
    "                file.append(vec_block[:func_len])\n",
    "    X_train = np.array(file)\n",
    "    return X_train"
   ]
  },
  {
   "cell_type": "code",
   "execution_count": 5,
   "metadata": {},
   "outputs": [],
   "source": [
    "word2vec = Word2Vec.load('word2vec_0402_64_upgrade.wv')\n",
    "word_vector = word2vec.wv\n"
   ]
  },
  {
   "cell_type": "code",
   "execution_count": 6,
   "metadata": {},
   "outputs": [
    {
     "name": "stderr",
     "output_type": "stream",
     "text": [
      "100%|████████████████████████████████████████████████████████████████████████████| 10000/10000 [03:33<00:00, 46.79it/s]\n"
     ]
    }
   ],
   "source": [
    "data_files = data_load(r'C:\\capstone\\modeling\\3\\data\\ben')"
   ]
  },
  {
   "cell_type": "code",
   "execution_count": 7,
   "metadata": {},
   "outputs": [
    {
     "name": "stderr",
     "output_type": "stream",
     "text": [
      "100%|████████████████████████████████████████████████████████████████████████████| 10000/10000 [06:26<00:00, 25.90it/s]\n"
     ]
    }
   ],
   "source": [
    "pre_datas = pre_processing(data_files , word_vector , 80 ,64)"
   ]
  },
  {
   "cell_type": "code",
   "execution_count": 11,
   "metadata": {},
   "outputs": [
    {
     "name": "stdout",
     "output_type": "stream",
     "text": [
      "Train :  3175998\n",
      "Test :  352889\n"
     ]
    }
   ],
   "source": [
    "data_size = len(pre_datas)\n",
    "rate = 0.9\n",
    "X_train = pre_datas[:int(data_size*rate)]\n",
    "X_test = pre_datas[int(data_size*rate):]\n",
    "print('Train : ', len(X_train))\n",
    "print('Test : ', len(X_test))\n"
   ]
  },
  {
   "cell_type": "code",
   "execution_count": 29,
   "metadata": {},
   "outputs": [
    {
     "name": "stdout",
     "output_type": "stream",
     "text": [
      "Model: \"model_5\"\n",
      "_________________________________________________________________\n",
      "Layer (type)                 Output Shape              Param #   \n",
      "=================================================================\n",
      "input_3 (InputLayer)         (None, 80, 64)            0         \n",
      "_________________________________________________________________\n",
      "gru_9 (GRU)                  (None, 80, 256)           246528    \n",
      "_________________________________________________________________\n",
      "gru_10 (GRU)                 (None, 128)               147840    \n",
      "_________________________________________________________________\n",
      "repeat_vector_3 (RepeatVecto (None, 80, 128)           0         \n",
      "_________________________________________________________________\n",
      "gru_11 (GRU)                 (None, 80, 128)           98688     \n",
      "_________________________________________________________________\n",
      "gru_12 (GRU)                 (None, 80, 64)            37056     \n",
      "_________________________________________________________________\n",
      "time_distributed_3 (TimeDist (None, 80, 64)            4160      \n",
      "=================================================================\n",
      "Total params: 534,272\n",
      "Trainable params: 534,272\n",
      "Non-trainable params: 0\n",
      "_________________________________________________________________\n"
     ]
    }
   ],
   "source": [
    "double_model = double_model(80,64)\n",
    "double_model.compile(optimizer='adam' , loss='mae')\n",
    "double_model.summary()"
   ]
  },
  {
   "cell_type": "code",
   "execution_count": 24,
   "metadata": {},
   "outputs": [
    {
     "data": {
      "text/plain": [
       "(3175998, 80, 64)"
      ]
     },
     "execution_count": 24,
     "metadata": {},
     "output_type": "execute_result"
    }
   ],
   "source": [
    "X_train.shape"
   ]
  },
  {
   "cell_type": "code",
   "execution_count": 30,
   "metadata": {},
   "outputs": [
    {
     "name": "stdout",
     "output_type": "stream",
     "text": [
      "Train on 3175998 samples, validate on 352889 samples\n",
      "Epoch 1/25\n",
      " - 1449s - loss: 0.0782 - val_loss: 0.0691\n",
      "Epoch 2/25\n",
      " - 1450s - loss: 0.0688 - val_loss: 0.0676\n",
      "Epoch 3/25\n",
      " - 1382s - loss: 0.0674 - val_loss: 0.0653\n",
      "Epoch 4/25\n",
      " - 1726s - loss: 0.0660 - val_loss: 0.0636\n",
      "Epoch 5/25\n",
      " - 1571s - loss: 0.0649 - val_loss: 0.0620\n",
      "Epoch 6/25\n",
      " - 1357s - loss: 0.0636 - val_loss: 0.0612\n",
      "Epoch 7/25\n",
      " - 1444s - loss: 0.0626 - val_loss: 0.0625\n",
      "Epoch 8/25\n",
      " - 1413s - loss: 0.0614 - val_loss: 0.0588\n",
      "Epoch 9/25\n",
      " - 1446s - loss: 0.0604 - val_loss: 0.0577\n",
      "Epoch 10/25\n",
      " - 1672s - loss: 0.0587 - val_loss: 0.0559\n",
      "Epoch 11/25\n",
      " - 1458s - loss: 0.0568 - val_loss: 0.0570\n",
      "Epoch 12/25\n",
      " - 1429s - loss: 0.0554 - val_loss: 0.0526\n",
      "Epoch 13/25\n",
      " - 1440s - loss: 0.0538 - val_loss: 0.0518\n",
      "Epoch 14/25\n",
      " - 1406s - loss: 0.0525 - val_loss: 0.0496\n",
      "Epoch 15/25\n",
      " - 1451s - loss: 0.0516 - val_loss: 0.0495\n",
      "Epoch 16/25\n",
      " - 1620s - loss: 0.0508 - val_loss: 0.0495\n",
      "Epoch 17/25\n",
      " - 1439s - loss: 0.0553 - val_loss: 0.1079\n",
      "Epoch 18/25\n",
      " - 1414s - loss: 0.0914 - val_loss: 0.0832\n",
      "Epoch 19/25\n",
      " - 1491s - loss: 0.0795 - val_loss: 0.0751\n",
      "Epoch 20/25\n",
      " - 1474s - loss: 0.0743 - val_loss: 0.0717\n",
      "Epoch 21/25\n",
      " - 1495s - loss: 0.0722 - val_loss: 0.0703\n",
      "Epoch 22/25\n",
      " - 1398s - loss: 0.0713 - val_loss: 0.0707\n",
      "Epoch 23/25\n",
      " - 1456s - loss: 0.0709 - val_loss: 0.0718\n",
      "Epoch 24/25\n",
      " - 1400s - loss: 0.0709 - val_loss: 0.0701\n",
      "Epoch 25/25\n",
      " - 1391s - loss: 0.0706 - val_loss: 0.0712\n"
     ]
    },
    {
     "data": {
      "text/plain": [
       "<keras.callbacks.callbacks.History at 0x222ed2d8dc8>"
      ]
     },
     "execution_count": 30,
     "metadata": {},
     "output_type": "execute_result"
    }
   ],
   "source": [
    "double_model.fit(X_train, X_train,epochs=25,batch_size=2048,shuffle=False,verbose =2 ,validation_data=(X_test, X_test))"
   ]
  },
  {
   "cell_type": "code",
   "execution_count": 40,
   "metadata": {},
   "outputs": [
    {
     "name": "stdout",
     "output_type": "stream",
     "text": [
      "Saved model to disk0408\n"
     ]
    }
   ],
   "source": [
    "model_json = double_model.to_json()\n",
    "with open(\"model_ida_gru_0408.json\", \"w\") as json_file : \n",
    "    json_file.write(model_json)\n",
    "\n",
    "double_model.save_weights(\"model_ida_gru_0408.h5\")\n",
    "print(\"Saved model to disk0408\")\n",
    "\n",
    "\n"
   ]
  },
  {
   "cell_type": "code",
   "execution_count": 93,
   "metadata": {},
   "outputs": [],
   "source": [
    "# train_mae_loss = np.mean(np.abs(X_train_pred - X_train), axis=1)\n",
    "\n",
    "THRESHOLD = 0.1\n",
    "X_test_pred = double_model.predict(X_test[:54175])\n",
    "test_mae_loss = np.mean(np.abs(X_test_pred - X_test[:54175]), axis=2)\n",
    "test_mae_loss.shape\n",
    "loss_data = []\n",
    "for i in test_mae_loss:\n",
    "    total_loss = 0\n",
    "    for i2 in i:\n",
    "        total_loss += i2\n",
    "    loss_data.append(total_loss/80)\n",
    "\n",
    "\n",
    "\n",
    "\n",
    "test_score_df = pd.DataFrame(index=[i for i in range(0,len(X_test[:54175]))])\n",
    "test_score_df['loss'] = loss_data\n",
    "\n",
    "test_score_df['threshold'] = THRESHOLD\n",
    "test_score_df['anomaly'] = test_score_df.loss > test_score_df.threshold\n",
    "# test_score_df['close'] = test[TIME_STEPS:].close\n",
    "\n",
    "anomalies_ben = test_score_df[test_score_df.anomaly == True]"
   ]
  },
  {
   "cell_type": "code",
   "execution_count": 94,
   "metadata": {},
   "outputs": [
    {
     "name": "stdout",
     "output_type": "stream",
     "text": [
      "0\n",
      "8697\n",
      "2222\n",
      "304\n"
     ]
    },
    {
     "data": {
      "text/html": [
       "<div>\n",
       "<style scoped>\n",
       "    .dataframe tbody tr th:only-of-type {\n",
       "        vertical-align: middle;\n",
       "    }\n",
       "\n",
       "    .dataframe tbody tr th {\n",
       "        vertical-align: top;\n",
       "    }\n",
       "\n",
       "    .dataframe thead th {\n",
       "        text-align: right;\n",
       "    }\n",
       "</style>\n",
       "<table border=\"1\" class=\"dataframe\">\n",
       "  <thead>\n",
       "    <tr style=\"text-align: right;\">\n",
       "      <th></th>\n",
       "      <th>loss</th>\n",
       "      <th>threshold</th>\n",
       "      <th>anomaly</th>\n",
       "    </tr>\n",
       "  </thead>\n",
       "  <tbody>\n",
       "    <tr>\n",
       "      <td>20</td>\n",
       "      <td>0.109733</td>\n",
       "      <td>0.1</td>\n",
       "      <td>True</td>\n",
       "    </tr>\n",
       "    <tr>\n",
       "      <td>37</td>\n",
       "      <td>0.100678</td>\n",
       "      <td>0.1</td>\n",
       "      <td>True</td>\n",
       "    </tr>\n",
       "    <tr>\n",
       "      <td>190</td>\n",
       "      <td>0.109438</td>\n",
       "      <td>0.1</td>\n",
       "      <td>True</td>\n",
       "    </tr>\n",
       "    <tr>\n",
       "      <td>268</td>\n",
       "      <td>0.101253</td>\n",
       "      <td>0.1</td>\n",
       "      <td>True</td>\n",
       "    </tr>\n",
       "    <tr>\n",
       "      <td>297</td>\n",
       "      <td>0.133012</td>\n",
       "      <td>0.1</td>\n",
       "      <td>True</td>\n",
       "    </tr>\n",
       "    <tr>\n",
       "      <td>...</td>\n",
       "      <td>...</td>\n",
       "      <td>...</td>\n",
       "      <td>...</td>\n",
       "    </tr>\n",
       "    <tr>\n",
       "      <td>54152</td>\n",
       "      <td>0.118925</td>\n",
       "      <td>0.1</td>\n",
       "      <td>True</td>\n",
       "    </tr>\n",
       "    <tr>\n",
       "      <td>54153</td>\n",
       "      <td>0.186058</td>\n",
       "      <td>0.1</td>\n",
       "      <td>True</td>\n",
       "    </tr>\n",
       "    <tr>\n",
       "      <td>54154</td>\n",
       "      <td>0.129177</td>\n",
       "      <td>0.1</td>\n",
       "      <td>True</td>\n",
       "    </tr>\n",
       "    <tr>\n",
       "      <td>54155</td>\n",
       "      <td>0.129198</td>\n",
       "      <td>0.1</td>\n",
       "      <td>True</td>\n",
       "    </tr>\n",
       "    <tr>\n",
       "      <td>54160</td>\n",
       "      <td>0.136445</td>\n",
       "      <td>0.1</td>\n",
       "      <td>True</td>\n",
       "    </tr>\n",
       "  </tbody>\n",
       "</table>\n",
       "<p>11223 rows × 3 columns</p>\n",
       "</div>"
      ],
      "text/plain": [
       "           loss  threshold  anomaly\n",
       "20     0.109733        0.1     True\n",
       "37     0.100678        0.1     True\n",
       "190    0.109438        0.1     True\n",
       "268    0.101253        0.1     True\n",
       "297    0.133012        0.1     True\n",
       "...         ...        ...      ...\n",
       "54152  0.118925        0.1     True\n",
       "54153  0.186058        0.1     True\n",
       "54154  0.129177        0.1     True\n",
       "54155  0.129198        0.1     True\n",
       "54160  0.136445        0.1     True\n",
       "\n",
       "[11223 rows x 3 columns]"
      ]
     },
     "execution_count": 94,
     "metadata": {},
     "output_type": "execute_result"
    }
   ],
   "source": [
    "nine_count = 0\n",
    "one_count = 0\n",
    "one_to_five = 0\n",
    "two_count = 0\n",
    "\n",
    "for i in anomalies_ben['loss']:\n",
    "    if(i<0.1):\n",
    "        nine_count+=1\n",
    "    elif (i<=0.15 and i>=0.1):\n",
    "        one_count+=1\n",
    "    elif (i<=0.2 and i>0.15):\n",
    "        one_to_five+=1\n",
    "    else:\n",
    "        two_count+=1\n",
    "\n",
    "print(nine_count)\n",
    "print(one_count)\n",
    "print(one_to_five)\n",
    "print(two_count)\n",
    "\n",
    "anomalies_ben"
   ]
  },
  {
   "cell_type": "code",
   "execution_count": 41,
   "metadata": {},
   "outputs": [
    {
     "name": "stdout",
     "output_type": "stream",
     "text": [
      "complte\n"
     ]
    }
   ],
   "source": [
    "json_file = open(\"model_ida_gru_0408.json\", \"r\") \n",
    "loaded_model_json = json_file.read() \n",
    "json_file.close() \n",
    "loaded_model = model_from_json(loaded_model_json)\n",
    "\n",
    "loaded_model.load_weights(\"model_ida_gru_0408.h5\")\n",
    "print('complte')\n"
   ]
  },
  {
   "cell_type": "code",
   "execution_count": 44,
   "metadata": {},
   "outputs": [
    {
     "name": "stderr",
     "output_type": "stream",
     "text": [
      "100%|███████████████████████████████████████████████████████████████████████████████| 500/500 [00:02<00:00, 187.31it/s]\n"
     ]
    }
   ],
   "source": [
    "mal_files = data_load(r'C:\\capstone\\modeling\\3\\data\\mal')"
   ]
  },
  {
   "cell_type": "code",
   "execution_count": 83,
   "metadata": {},
   "outputs": [
    {
     "name": "stderr",
     "output_type": "stream",
     "text": [
      "100%|████████████████████████████████████████████████████████████████████████████████| 500/500 [00:07<00:00, 68.65it/s]\n"
     ]
    }
   ],
   "source": [
    "mal_data = pre_processing(mal_files , word_vector , 80 ,64)"
   ]
  },
  {
   "cell_type": "code",
   "execution_count": 84,
   "metadata": {},
   "outputs": [
    {
     "data": {
      "text/plain": [
       "(54175, 80, 64)"
      ]
     },
     "execution_count": 84,
     "metadata": {},
     "output_type": "execute_result"
    }
   ],
   "source": [
    "mal_data.shape"
   ]
  },
  {
   "cell_type": "code",
   "execution_count": 85,
   "metadata": {},
   "outputs": [],
   "source": [
    "# train_mae_loss = np.mean(np.abs(X_train_pred - X_train), axis=1)\n",
    "\n",
    "THRESHOLD = 0.1\n",
    "X_test_pred = double_model.predict(mal_data)\n",
    "test_mae_loss = np.mean(np.abs(X_test_pred - mal_data), axis=2)\n",
    "test_mae_loss.shape\n",
    "loss_data = []\n",
    "for i in test_mae_loss:\n",
    "    total_loss = 0\n",
    "    for i2 in i:\n",
    "        total_loss += i2\n",
    "    loss_data.append(total_loss/80)\n",
    "\n",
    "\n",
    "\n",
    "\n",
    "test_score_df = pd.DataFrame(index=[i for i in range(0,len(mal_data))])\n",
    "test_score_df['loss'] = loss_data\n",
    "\n",
    "test_score_df['threshold'] = THRESHOLD\n",
    "test_score_df['anomaly'] = test_score_df.loss > test_score_df.threshold\n",
    "# test_score_df['close'] = test[TIME_STEPS:].close\n",
    "\n",
    "anomalies_mal = test_score_df[test_score_df.anomaly == True]"
   ]
  },
  {
   "cell_type": "code",
   "execution_count": 86,
   "metadata": {},
   "outputs": [
    {
     "name": "stdout",
     "output_type": "stream",
     "text": [
      "0\n",
      "11299\n",
      "1367\n",
      "2086\n"
     ]
    },
    {
     "data": {
      "text/html": [
       "<div>\n",
       "<style scoped>\n",
       "    .dataframe tbody tr th:only-of-type {\n",
       "        vertical-align: middle;\n",
       "    }\n",
       "\n",
       "    .dataframe tbody tr th {\n",
       "        vertical-align: top;\n",
       "    }\n",
       "\n",
       "    .dataframe thead th {\n",
       "        text-align: right;\n",
       "    }\n",
       "</style>\n",
       "<table border=\"1\" class=\"dataframe\">\n",
       "  <thead>\n",
       "    <tr style=\"text-align: right;\">\n",
       "      <th></th>\n",
       "      <th>loss</th>\n",
       "      <th>threshold</th>\n",
       "      <th>anomaly</th>\n",
       "    </tr>\n",
       "  </thead>\n",
       "  <tbody>\n",
       "    <tr>\n",
       "      <td>0</td>\n",
       "      <td>0.307676</td>\n",
       "      <td>0.1</td>\n",
       "      <td>True</td>\n",
       "    </tr>\n",
       "    <tr>\n",
       "      <td>1</td>\n",
       "      <td>0.307676</td>\n",
       "      <td>0.1</td>\n",
       "      <td>True</td>\n",
       "    </tr>\n",
       "    <tr>\n",
       "      <td>2</td>\n",
       "      <td>0.223715</td>\n",
       "      <td>0.1</td>\n",
       "      <td>True</td>\n",
       "    </tr>\n",
       "    <tr>\n",
       "      <td>3</td>\n",
       "      <td>0.303514</td>\n",
       "      <td>0.1</td>\n",
       "      <td>True</td>\n",
       "    </tr>\n",
       "    <tr>\n",
       "      <td>4</td>\n",
       "      <td>0.300381</td>\n",
       "      <td>0.1</td>\n",
       "      <td>True</td>\n",
       "    </tr>\n",
       "    <tr>\n",
       "      <td>...</td>\n",
       "      <td>...</td>\n",
       "      <td>...</td>\n",
       "      <td>...</td>\n",
       "    </tr>\n",
       "    <tr>\n",
       "      <td>54156</td>\n",
       "      <td>0.138105</td>\n",
       "      <td>0.1</td>\n",
       "      <td>True</td>\n",
       "    </tr>\n",
       "    <tr>\n",
       "      <td>54164</td>\n",
       "      <td>0.101490</td>\n",
       "      <td>0.1</td>\n",
       "      <td>True</td>\n",
       "    </tr>\n",
       "    <tr>\n",
       "      <td>54169</td>\n",
       "      <td>0.109547</td>\n",
       "      <td>0.1</td>\n",
       "      <td>True</td>\n",
       "    </tr>\n",
       "    <tr>\n",
       "      <td>54172</td>\n",
       "      <td>0.133012</td>\n",
       "      <td>0.1</td>\n",
       "      <td>True</td>\n",
       "    </tr>\n",
       "    <tr>\n",
       "      <td>54174</td>\n",
       "      <td>0.133133</td>\n",
       "      <td>0.1</td>\n",
       "      <td>True</td>\n",
       "    </tr>\n",
       "  </tbody>\n",
       "</table>\n",
       "<p>14752 rows × 3 columns</p>\n",
       "</div>"
      ],
      "text/plain": [
       "           loss  threshold  anomaly\n",
       "0      0.307676        0.1     True\n",
       "1      0.307676        0.1     True\n",
       "2      0.223715        0.1     True\n",
       "3      0.303514        0.1     True\n",
       "4      0.300381        0.1     True\n",
       "...         ...        ...      ...\n",
       "54156  0.138105        0.1     True\n",
       "54164  0.101490        0.1     True\n",
       "54169  0.109547        0.1     True\n",
       "54172  0.133012        0.1     True\n",
       "54174  0.133133        0.1     True\n",
       "\n",
       "[14752 rows x 3 columns]"
      ]
     },
     "execution_count": 86,
     "metadata": {},
     "output_type": "execute_result"
    }
   ],
   "source": [
    "nine_count = 0\n",
    "one_count = 0\n",
    "one_to_five = 0\n",
    "two_count = 0\n",
    "\n",
    "for i in anomalies_mal['loss']:\n",
    "    if(i<0.1):\n",
    "        nine_count+=1\n",
    "    elif (i<=0.15 and i>=0.1):\n",
    "        one_count+=1\n",
    "    elif (i<=0.2 and i>0.15):\n",
    "        one_to_five+=1\n",
    "    else:\n",
    "        two_count+=1\n",
    "\n",
    "print(nine_count)\n",
    "print(one_count)\n",
    "print(one_to_five)\n",
    "print(two_count)\n",
    "\n",
    "anomalies_mal"
   ]
  },
  {
   "cell_type": "code",
   "execution_count": null,
   "metadata": {},
   "outputs": [],
   "source": []
  }
 ],
 "metadata": {
  "kernelspec": {
   "display_name": "Python 3",
   "language": "python",
   "name": "python3"
  },
  "language_info": {
   "codemirror_mode": {
    "name": "ipython",
    "version": 3
   },
   "file_extension": ".py",
   "mimetype": "text/x-python",
   "name": "python",
   "nbconvert_exporter": "python",
   "pygments_lexer": "ipython3",
   "version": "3.7.4"
  }
 },
 "nbformat": 4,
 "nbformat_minor": 2
}
