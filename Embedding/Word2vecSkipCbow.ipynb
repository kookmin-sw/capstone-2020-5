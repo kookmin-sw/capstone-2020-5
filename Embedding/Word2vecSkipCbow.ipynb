{
 "cells": [
  {
   "cell_type": "code",
   "execution_count": 16,
   "metadata": {},
   "outputs": [],
   "source": [
    "from gensim.models import Word2Vec\n",
    "import matplotlib.pyplot as plt\n",
    "import os\n",
    "import pickle\n",
    "from tqdm import tqdm\n",
    "\n",
    "total_file = [[]]"
   ]
  },
  {
   "cell_type": "code",
   "execution_count": 22,
   "metadata": {},
   "outputs": [
    {
     "name": "stderr",
     "output_type": "stream",
     "text": [
      "100%|█████████████████████████████████████████████████████████████████| 25979033/25979033 [03:42<00:00, 116841.95it/s]\n"
     ]
    }
   ],
   "source": [
    "no_repeat_data = set()\n",
    "for i in tqdm(data1):\n",
    "    no_repeat_data.add(str(i))\n",
    "\n",
    "# 파일 55000개"
   ]
  },
  {
   "cell_type": "code",
   "execution_count": 24,
   "metadata": {},
   "outputs": [
    {
     "name": "stderr",
     "output_type": "stream",
     "text": [
      "100%|███████████████████████████████████████████████████████████████████| 10351775/10351775 [19:33<00:00, 8819.32it/s]\n"
     ]
    }
   ],
   "source": [
    "sentences = []\n",
    "for i in tqdm(no_repeat_data):\n",
    "    sentences.append(eval(i))\n",
    "\n",
    "# 파일 55000개 중복제거 --> 함수 약 1천만개"
   ]
  },
  {
   "cell_type": "code",
   "execution_count": 268,
   "metadata": {},
   "outputs": [],
   "source": [
    "model1_1 = Word2Vec(sentences ,size=32 , window=2 , min_count=1000 ,sg = 1, workers=40)\n",
    "model1_1.save('word2vec_0424_32_2_1000_1.wv')"
   ]
  },
  {
   "cell_type": "code",
   "execution_count": 269,
   "metadata": {},
   "outputs": [],
   "source": [
    "model1_2 = Word2Vec(sentences ,size=32 , window=3 , min_count=1000 ,sg = 1, workers=40)\n",
    "model1_2.save('word2vec_0424_32_3_1000_1.wv')"
   ]
  },
  {
   "cell_type": "code",
   "execution_count": 270,
   "metadata": {},
   "outputs": [],
   "source": [
    "model1_3 = Word2Vec(sentences ,size=32 , window=4 , min_count=1000 ,sg = 1, workers=40)\n",
    "model1_3.save('word2vec_0424_32_4_1000_1.wv')"
   ]
  },
  {
   "cell_type": "code",
   "execution_count": 271,
   "metadata": {},
   "outputs": [],
   "source": [
    "model2_1 = Word2Vec(sentences ,size=64 , window=2 , min_count=1000 ,sg = 1, workers=40)\n",
    "model2_1.save('word2vec_0424_64_2_1000_1.wv')"
   ]
  },
  {
   "cell_type": "code",
   "execution_count": 272,
   "metadata": {},
   "outputs": [],
   "source": [
    "model2_2 = Word2Vec(sentences ,size=64 , window=3 , min_count=1000 ,sg = 1, workers=40)\n",
    "model2_2.save('word2vec_0424_64_3_1000_1.wv')"
   ]
  },
  {
   "cell_type": "code",
   "execution_count": 273,
   "metadata": {},
   "outputs": [],
   "source": [
    "model2_3 = Word2Vec(sentences ,size=64 , window=4 , min_count=1000 ,sg = 1, workers=40)\n",
    "model2_3.save('word2vec_0424_64_4_1000_1.wv')"
   ]
  },
  {
   "cell_type": "code",
   "execution_count": 274,
   "metadata": {},
   "outputs": [],
   "source": [
    "model3_1 = Word2Vec(sentences ,size=128 , window=2 , min_count=1000 ,sg = 1, workers=40)\n",
    "model3_1.save('word2vec_0424_128_2_1000_1.wv')"
   ]
  },
  {
   "cell_type": "code",
   "execution_count": 275,
   "metadata": {},
   "outputs": [],
   "source": [
    "model3_2 = Word2Vec(sentences ,size=128 , window=3 , min_count=1000 ,sg = 1, workers=40)\n",
    "model3_2.save('word2vec_0424_128_3_1000_1.wv')"
   ]
  },
  {
   "cell_type": "code",
   "execution_count": 276,
   "metadata": {},
   "outputs": [],
   "source": [
    "model3_3 = Word2Vec(sentences ,size=128 , window=4 , min_count=1000 ,sg = 1, workers=40)\n",
    "model3_3.save('word2vec_0424_128_4_1000_1.wv')"
   ]
  },
  {
   "cell_type": "code",
   "execution_count": 277,
   "metadata": {},
   "outputs": [],
   "source": [
    "model4_1 = Word2Vec(sentences ,size=256 , window=2 , min_count=1000 ,sg = 1, workers=40)\n",
    "model4_1.save('word2vec_0424_256_2_1000_1.wv')"
   ]
  },
  {
   "cell_type": "code",
   "execution_count": 278,
   "metadata": {},
   "outputs": [],
   "source": [
    "model4_2 = Word2Vec(sentences ,size=256 , window=3 , min_count=1000 ,sg = 1, workers=40)\n",
    "model4_2.save('word2vec_0424_256_3_1000_1.wv')"
   ]
  },
  {
   "cell_type": "code",
   "execution_count": 279,
   "metadata": {},
   "outputs": [],
   "source": [
    "model4_3 = Word2Vec(sentences ,size=256 , window=4 , min_count=1000 ,sg = 1, workers=40)\n",
    "model4_3.save('word2vec_0424_256_4_1000_1.wv')"
   ]
  },
  {
   "cell_type": "code",
   "execution_count": 280,
   "metadata": {},
   "outputs": [
    {
     "name": "stdout",
     "output_type": "stream",
     "text": [
      "complte\n"
     ]
    }
   ],
   "source": [
    "print('complte_skip_gram')"
   ]
  },
  {
   "cell_type": "code",
   "execution_count": 281,
   "metadata": {},
   "outputs": [],
   "source": [
    "model1_1 = Word2Vec(sentences ,size=32 , window=2 , min_count=1000 ,sg = 0, workers=40)\n",
    "model1_1.save('word2vec_0424_32_2_1000_1.wv')"
   ]
  },
  {
   "cell_type": "code",
   "execution_count": 282,
   "metadata": {},
   "outputs": [],
   "source": [
    "model1_2 = Word2Vec(sentences ,size=32 , window=3 , min_count=1000 ,sg = 0, workers=40)\n",
    "model1_2.save('word2vec_0424_32_3_1000_1.wv')"
   ]
  },
  {
   "cell_type": "code",
   "execution_count": 283,
   "metadata": {},
   "outputs": [],
   "source": [
    "model1_3 = Word2Vec(sentences ,size=32 , window=4 , min_count=1000 ,sg = 0, workers=40)\n",
    "model1_3.save('word2vec_0424_32_4_1000_1.wv')"
   ]
  },
  {
   "cell_type": "code",
   "execution_count": 284,
   "metadata": {},
   "outputs": [],
   "source": [
    "model2_1 = Word2Vec(sentences ,size=64 , window=2 , min_count=1000 ,sg = 0, workers=40)\n",
    "model2_1.save('word2vec_0424_64_2_1000_1.wv')"
   ]
  },
  {
   "cell_type": "code",
   "execution_count": 285,
   "metadata": {},
   "outputs": [],
   "source": [
    "model2_2 = Word2Vec(sentences ,size=64 , window=3 , min_count=1000 ,sg = 0, workers=40)\n",
    "model2_2.save('word2vec_0424_64_3_1000_1.wv')"
   ]
  },
  {
   "cell_type": "code",
   "execution_count": 286,
   "metadata": {},
   "outputs": [],
   "source": [
    "model2_3 = Word2Vec(sentences ,size=64 , window=4 , min_count=1000 ,sg = 0, workers=40)\n",
    "model2_3.save('word2vec_0424_64_4_1000_1.wv')"
   ]
  },
  {
   "cell_type": "code",
   "execution_count": 287,
   "metadata": {},
   "outputs": [],
   "source": [
    "model3_1 = Word2Vec(sentences ,size=128 , window=2 , min_count=1000 ,sg = 0, workers=40)\n",
    "model3_1.save('word2vec_0424_128_2_1000_1.wv')"
   ]
  },
  {
   "cell_type": "code",
   "execution_count": 288,
   "metadata": {},
   "outputs": [],
   "source": [
    "model3_2 = Word2Vec(sentences ,size=128 , window=3 , min_count=1000 ,sg = 0, workers=40)\n",
    "model3_2.save('word2vec_0424_128_3_1000_1.wv')"
   ]
  },
  {
   "cell_type": "code",
   "execution_count": 289,
   "metadata": {},
   "outputs": [],
   "source": [
    "model3_3 = Word2Vec(sentences ,size=128 , window=4 , min_count=1000 ,sg = 0, workers=40)\n",
    "model3_3.save('word2vec_0424_128_4_1000_1.wv')"
   ]
  },
  {
   "cell_type": "code",
   "execution_count": 290,
   "metadata": {},
   "outputs": [],
   "source": [
    "model4_1 = Word2Vec(sentences ,size=256 , window=2 , min_count=1000 ,sg = 0, workers=40)\n",
    "model4_1.save('word2vec_0424_256_2_1000_1.wv')"
   ]
  },
  {
   "cell_type": "code",
   "execution_count": 291,
   "metadata": {},
   "outputs": [],
   "source": [
    "model4_2 = Word2Vec(sentences ,size=256 , window=3 , min_count=1000 ,sg = 0, workers=40)\n",
    "model4_2.save('word2vec_0424_256_3_1000_1.wv')"
   ]
  },
  {
   "cell_type": "code",
   "execution_count": 292,
   "metadata": {},
   "outputs": [],
   "source": [
    "model4_3 = Word2Vec(sentences ,size=256 , window=4 , min_count=1000 ,sg = 0, workers=40)\n",
    "model4_3.save('word2vec_0424_256_4_1000_1.wv')"
   ]
  },
  {
   "cell_type": "code",
   "execution_count": 293,
   "metadata": {},
   "outputs": [
    {
     "name": "stdout",
     "output_type": "stream",
     "text": [
      "complte\n"
     ]
    }
   ],
   "source": [
    "print('complte_cbow')"
   ]
  }
 ],
 "metadata": {
  "kernelspec": {
   "display_name": "Python 3",
   "language": "python",
   "name": "python3"
  },
  "language_info": {
   "codemirror_mode": {
    "name": "ipython",
    "version": 3
   },
   "file_extension": ".py",
   "mimetype": "text/x-python",
   "name": "python",
   "nbconvert_exporter": "python",
   "pygments_lexer": "ipython3",
   "version": "3.7.6"
  }
 },
 "nbformat": 4,
 "nbformat_minor": 2
}
