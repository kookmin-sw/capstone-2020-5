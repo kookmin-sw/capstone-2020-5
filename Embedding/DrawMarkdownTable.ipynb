{
 "cells": [
  {
   "cell_type": "code",
   "execution_count": null,
   "metadata": {},
   "outputs": [],
   "source": [
    "frontName = './result/CBOW_'\n",
    "rearName = 'feature_10window_50minword_10epochs'\n",
    "\n",
    "testAsm = ['mov', 'jmp', 'add', 'pop', 'push']"
   ]
  },
  {
   "cell_type": "code",
   "execution_count": 2,
   "metadata": {},
   "outputs": [],
   "source": [
    "import gensim\n",
    "\n",
    "class EpochLogger(gensim.models.callbacks.CallbackAny2Vec):\n",
    "    def __init__(self):\n",
    "        self.epoch = 0\n",
    "        self.beginTime = 0\n",
    "    \n",
    "    def on_epoch_begin(self, model):\n",
    "        print('Epoch {} start'.format(self.epoch), end=' ')\n",
    "        self.epoch += 1\n",
    "        self.beginTime = time.time()\n",
    "        \n",
    "    def on_epoch_end(self, model):\n",
    "        print('- {} sec'.format(int(time.time() - self.beginTime)))"
   ]
  },
  {
   "cell_type": "code",
   "execution_count": 3,
   "metadata": {},
   "outputs": [],
   "source": [
    "# Load models\n",
    "models = []\n",
    "for featureNum in [8, 16, 32, 64, 128]:\n",
    "    fileName = frontName + str(featureNum) + rearName\n",
    "    models.append(gensim.models.Word2Vec.load(fileName))"
   ]
  },
  {
   "cell_type": "code",
   "execution_count": 4,
   "metadata": {},
   "outputs": [
    {
     "name": "stdout",
     "output_type": "stream",
     "text": [
      "|Mnemomnic|vec 8| vec 16 | vec 32 | vec 64 | vec128 |\n",
      "|:-:|:-:|:-:|:-:|:-:|:-:|\n",
      "| mov| jmp<br>lea<br>jz<br>jnz<br>jle<br>jbe<br>call<br>push<br>jge<br>jl<br>| jmp<br>jle<br>jnz<br>xor<br>jbe<br>jz<br>jge<br>jl<br>jg<br>ldarg.1<br>| jnz<br>jmp<br>jle<br>jz<br>jg<br>xor<br>jge<br>jbe<br>jl<br>cmpunordps<br>| jmp<br>jle<br>jnz<br>jz<br>jg<br>xor<br>jge<br>lea<br>jbe<br>jl<br>| jmp<br>jz<br>jnz<br>jle<br>jge<br>lea<br>jl<br>xor<br>jg<br>push<br>| \n",
      "| jmp| mov<br>jnz<br>jl<br>jz<br>jbe<br>jge<br>jg<br>jle<br>lea<br>call<br>| mov<br>jnz<br>ret<br>jz<br>lea<br>jl<br>ldarg.1<br>box<br>jle<br>jge<br>| jnz<br>mov<br>jz<br>jg<br>jle<br>lea<br>jge<br>setnz<br>setz<br>call<br>| mov<br>lea<br>jnz<br>jz<br>call<br>setz<br>jge<br>jle<br>jl<br>jg<br>| mov<br>lea<br>jnz<br>jz<br>call<br>jge<br>jl<br>push<br>jle<br>jg<br>| \n",
      "| add| jbe<br>ja<br>sub<br>jnb<br>jg<br>jle<br>jge<br>jz<br>jnz<br>jb<br>| ldloc.2<br>imul<br>sub<br>adc<br>stloc.3<br>ldloc.3<br>ldloc.0<br>ja<br>stloc.1<br>sar<br>| ldc.i4.1<br>imul<br>ldc.i4.3<br>ldc.i4.2<br>jg<br>ja<br>stelem.i4<br>ldelem.i4<br>sub<br>bge.s<br>| imul<br>ja<br>jb<br>jnb<br>jg<br>jno<br>adc<br>sub<br>jbe<br>jl<br>| jb<br>ja<br>jg<br>jnb<br>imul<br>sub<br>jl<br>jbe<br>adc<br>shl<br>| \n",
      "| pop| leave<br>retn<br>cgt.un<br>pushf<br>stosd<br>setns<br>vzeroupper<br>fsincos<br>ldnull<br>fclex<br>| leave<br>retn<br>callvirt<br>castclass<br>brfalse.s<br>isinst<br>ldelem.ref<br>blt.s<br>stloc.2<br>brtrue.s<br>| retn<br>leave<br>ldsfld<br>callvirt<br>ldelem.ref<br>xor<br>pushf<br>stloc.s<br>vzeroupper<br>mov<br>| leave<br>retn<br>vfmsub231ss<br>divpd<br>vfmsub213sd<br>vpminsd<br>vpackusdw<br>movdq2q<br>pextrb<br>pmovzxwd<br>| retn<br>leave<br>mov<br>xor<br>leave.s<br>jmp<br>vcmpgtsd<br>cmpsd<br>vdivss<br>call<br>| \n",
      "| push| lea<br>call<br>mov<br>jmp<br>test<br>throw<br>ldtoken<br>vfmsub231sd<br>jl<br>jge<br>| lea<br>call<br>jz<br>jnz<br>mov<br>jle<br>jmp<br>stloc.0<br>ldarg<br>jge<br>| call<br>lea<br>jz<br>jnz<br>js<br>jmp<br>box<br>jle<br>dup<br>ldc.i4.0<br>| lea<br>call<br>jz<br>jnz<br>jmp<br>jle<br>mov<br>js<br>setnz<br>test<br>| lea<br>call<br>jz<br>jnz<br>jmp<br>mov<br>jle<br>test<br>js<br>jl<br>| \n"
     ]
    }
   ],
   "source": [
    "print('|Mnemomnic|vec 8| vec 16 | vec 32 | vec 64 | vec128 |')\n",
    "print('|:-:|:-:|:-:|:-:|:-:|:-:|')\n",
    "for asm in testAsm:\n",
    "    print('| ' + asm + '|', end=' ')\n",
    "    for m in models:\n",
    "        for similar in m.wv.most_similar(asm):\n",
    "            print(similar[0], end='<br>')\n",
    "        print('|', end=' ')\n",
    "    print()\n",
    "        "
   ]
  },
  {
   "cell_type": "code",
   "execution_count": null,
   "metadata": {},
   "outputs": [],
   "source": []
  }
 ],
 "metadata": {
  "kernelspec": {
   "display_name": "Python 3",
   "language": "python",
   "name": "python3"
  },
  "language_info": {
   "codemirror_mode": {
    "name": "ipython",
    "version": 3
   },
   "file_extension": ".py",
   "mimetype": "text/x-python",
   "name": "python",
   "nbconvert_exporter": "python",
   "pygments_lexer": "ipython3",
   "version": "3.7.4"
  }
 },
 "nbformat": 4,
 "nbformat_minor": 4
}
