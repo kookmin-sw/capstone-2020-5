{
  "nbformat": 4,
  "nbformat_minor": 0,
  "metadata": {
    "colab": {
      "name": "capstone-tf_idf.ipynb",
      "provenance": [],
      "machine_shape": "hm"
    },
    "kernelspec": {
      "name": "python3",
      "display_name": "Python 3"
    }
  },
  "cells": [
    {
      "cell_type": "code",
      "metadata": {
        "id": "4bx3Lt1yO1QC",
        "colab_type": "code",
        "outputId": "bc605cbb-1302-46bb-c57a-72be5b128b79",
        "colab": {
          "base_uri": "https://localhost:8080/",
          "height": 126
        }
      },
      "source": [
        "# 구글 드라이브 마운트, 주피터에선 사용 X\n",
        "from google.colab import drive\n",
        "drive.mount('/content/gdrive')"
      ],
      "execution_count": 0,
      "outputs": [
        {
          "output_type": "stream",
          "text": [
            "Go to this URL in a browser: https://accounts.google.com/o/oauth2/auth?client_id=947318989803-6bn6qk8qdgf4n4g3pfee6491hc0brc4i.apps.googleusercontent.com&redirect_uri=urn%3aietf%3awg%3aoauth%3a2.0%3aoob&response_type=code&scope=email%20https%3a%2f%2fwww.googleapis.com%2fauth%2fdocs.test%20https%3a%2f%2fwww.googleapis.com%2fauth%2fdrive%20https%3a%2f%2fwww.googleapis.com%2fauth%2fdrive.photos.readonly%20https%3a%2f%2fwww.googleapis.com%2fauth%2fpeopleapi.readonly\n",
            "\n",
            "Enter your authorization code:\n",
            "··········\n",
            "Mounted at /content/gdrive\n"
          ],
          "name": "stdout"
        }
      ]
    },
    {
      "cell_type": "code",
      "metadata": {
        "id": "wsPGvSqeO7En",
        "colab_type": "code",
        "outputId": "1144d7e9-4861-492f-9078-3864999592bc",
        "colab": {
          "base_uri": "https://localhost:8080/",
          "height": 35
        }
      },
      "source": [
        "# 필수 라이브러리 import\n",
        "%tensorflow_version 1.x\n",
        "import math\n",
        "import os\n",
        "import pickle\n",
        "import numpy as np"
      ],
      "execution_count": 0,
      "outputs": [
        {
          "output_type": "stream",
          "text": [
            "TensorFlow 1.x selected.\n"
          ],
          "name": "stdout"
        }
      ]
    },
    {
      "cell_type": "code",
      "metadata": {
        "id": "7hFnucGAO8I4",
        "colab_type": "code",
        "colab": {}
      },
      "source": [
        "# 변수 설정\n",
        "normal_path = '/content/gdrive/My Drive/캡스톤/ben/' #정상파일 경로\n",
        "mal_path = '/content/gdrive/My Drive/캡스톤/mnemonic/' #악성파일 경로\n",
        "model_path = '/content/gdrive/My Drive/캡스톤/' #모델 가중치 저장 경로\n",
        "mc_len = 0\n",
        "block_id = {}\n",
        "mnemonic_table = {}\n",
        "mnemonic_id = {}"
      ],
      "execution_count": 0,
      "outputs": []
    },
    {
      "cell_type": "code",
      "metadata": {
        "id": "RLryASP0O9xw",
        "colab_type": "code",
        "colab": {}
      },
      "source": [
        "def pickle_load(path):\n",
        "  f = open(path, 'rb')\n",
        "  data = pickle.load(f)\n",
        "  f.close()\n",
        "  return data\n",
        "\n",
        "def pickle_dump(path, data):\n",
        "  f = open(path, 'wb')\n",
        "  pickle.dump(data, f)\n",
        "  f.close()"
      ],
      "execution_count": 0,
      "outputs": []
    },
    {
      "cell_type": "code",
      "metadata": {
        "id": "Bc0NgL2PPHsO",
        "colab_type": "code",
        "colab": {}
      },
      "source": [
        "def mnemonic_count(blocks):\n",
        "  global mc_len\n",
        "  for block in blocks:\n",
        "    tf = {}\n",
        "    for mnemonics in block:\n",
        "      len_mnemonics = len(mnemonics)\n",
        "      for mnemonic in mnemonics:\n",
        "        if mnemonic not in tf:\n",
        "          tf[mnemonic] = 1 / len_mnemonics\n",
        "        else:\n",
        "          tf[mnemonic] += 1 / len_mnemonics\n",
        "    block_id[mc_len] = tf\n",
        "    mc_len += 1\n",
        "\n",
        "def data_load_for_word_count(path, start, end):\n",
        "  file_names = os.listdir(path)\n",
        "  file_names = file_names[start:end]\n",
        "  for index, file_name in enumerate(file_names):\n",
        "    print(\"\\r{} / {}\".format(index + 1, len(file_names)), end=\"\")\n",
        "    try:\n",
        "      mnemonic = pickle_load(path + file_name)\n",
        "      mnemonic_count(mnemonic)\n",
        "    except:\n",
        "      pass\n",
        "  print()"
      ],
      "execution_count": 0,
      "outputs": []
    },
    {
      "cell_type": "code",
      "metadata": {
        "id": "52I7l2htPMA-",
        "colab_type": "code",
        "colab": {}
      },
      "source": [
        "def fw_indexing():\n",
        "  for index in block_id:\n",
        "    if index % 1000 == 0:\n",
        "      print(\"\\rfw_indexing part 1: {} / {}\".format(index + 1, len(block_id)), end=\"\")\n",
        "    for mnemonic in block_id[index]:\n",
        "      if mnemonic in mnemonic_table:\n",
        "        mnemonic_table[mnemonic] += 1\n",
        "      else:\n",
        "        mnemonic_table[mnemonic] = 1\n",
        "  print()\n",
        "\n",
        "  smnemonic_table = sorted(mnemonic_table, key=lambda k : mnemonic_table[k])\n",
        "  for mnemonic in smnemonic_table:\n",
        "    if mnemonic_table[mnemonic] > 10000:\n",
        "      break\n",
        "    else:\n",
        "      del mnemonic_table[mnemonic]\n",
        "  \n",
        "  len_block_id = len(block_id)\n",
        "  for index in block_id:\n",
        "    if index % 1000 == 0:\n",
        "      print(\"\\rfw_indexing part 2: {} / {}\".format(index + 1, len(block_id)), end=\"\")\n",
        "    for mnemonic in block_id[index]:\n",
        "      if mnemonic in mnemonic_table:\n",
        "        block_id[index][mnemonic] *= math.log10(len_block_id / (1 + mnemonic_table[mnemonic]))\n",
        "      else:\n",
        "        block_id[index][mnemonic] *= math.log10(len_block_id)\n",
        "  print()"
      ],
      "execution_count": 0,
      "outputs": []
    },
    {
      "cell_type": "code",
      "metadata": {
        "id": "zRGMT-gYJsKx",
        "colab_type": "code",
        "colab": {}
      },
      "source": [
        "def bk_indexing():\n",
        "  for index in block_id:\n",
        "    if index % 1000 == 0:\n",
        "      print(\"\\rbk_indexing: {} / {}\".format(index + 1, len(block_id)), end=\"\")\n",
        "    for mnemonic in block_id[index]:\n",
        "      if mnemonic in mnemonic_id:\n",
        "        mnemonic_id[mnemonic][index] = block_id[index][mnemonic]\n",
        "      else:\n",
        "        mnemonic_id[mnemonic] = {}\n",
        "        mnemonic_id[mnemonic][index] = block_id[index][mnemonic]\n",
        "  print()"
      ],
      "execution_count": 0,
      "outputs": []
    },
    {
      "cell_type": "code",
      "metadata": {
        "id": "doH5JjewQPEF",
        "colab_type": "code",
        "outputId": "e7d1567f-2e7b-4564-ab80-5a94f4d28f55",
        "colab": {
          "base_uri": "https://localhost:8080/",
          "height": 87
        }
      },
      "source": [
        "data_load_for_word_count(normal_path, 0, 1000)\n",
        "pickle_dump(model_path + 'block_id_1000.dat', block_id)\n",
        "fw_indexing()\n",
        "pickle_dump(model_path + 'mnemonic_table_1000.dat', mnemonic_table)\n",
        "bk_indexing()\n",
        "pickle_dump(model_path + 'mnemonic_id_1000.dat', mnemonic_id)"
      ],
      "execution_count": 0,
      "outputs": [
        {
          "output_type": "stream",
          "text": [
            "1000 / 1000\n",
            "fw_indexing part 1: 5773001 / 5773986\n",
            "fw_indexing part 2: 5773001 / 5773986\n",
            "bk_indexing: 5773001 / 5773986\n"
          ],
          "name": "stdout"
        }
      ]
    },
    {
      "cell_type": "code",
      "metadata": {
        "id": "O46BRqG8J_TR",
        "colab_type": "code",
        "colab": {}
      },
      "source": [
        "block_id = pickle_load(model_path + 'block_id_1000.dat')\n",
        "mnemonic_table = pickle_load(model_path + 'mnemonic_table_1000.dat')\n",
        "mnemonic_id = pickle_load(model_path + 'mnemonic_id_1000.dat')"
      ],
      "execution_count": 0,
      "outputs": []
    },
    {
      "cell_type": "code",
      "metadata": {
        "id": "uB0ic1eRNAdr",
        "colab_type": "code",
        "outputId": "6acda046-1231-4d1a-bc06-cb7621f9d11d",
        "colab": {
          "base_uri": "https://localhost:8080/",
          "height": 70
        }
      },
      "source": [
        "print(len(block_id))\n",
        "print(len(mnemonic_table))\n",
        "print(len(mnemonic_id))"
      ],
      "execution_count": 0,
      "outputs": [
        {
          "output_type": "stream",
          "text": [
            "5773986\n",
            "170\n",
            "1363\n"
          ],
          "name": "stdout"
        }
      ]
    },
    {
      "cell_type": "code",
      "metadata": {
        "id": "96td1SkOnb_-",
        "colab_type": "code",
        "colab": {}
      },
      "source": [
        "def search(blocks):\n",
        "  ret = []\n",
        "  search_block_id = {}\n",
        "  len_block_id = len(block_id)\n",
        "  for block in blocks:\n",
        "    tf = {}\n",
        "    tf_size = 0\n",
        "    for mnemonics in block:\n",
        "      len_mnemonics = len(mnemonics)\n",
        "      for mnemonic in mnemonics:\n",
        "        if mnemonic in tf:\n",
        "          tf[mnemonic] += 1 / len_mnemonics\n",
        "        else:\n",
        "          tf[mnemonic] = 1 / len_mnemonics\n",
        "    numerator = {}\n",
        "    denominator = {}\n",
        "    for mnemonic in tf:\n",
        "      if mnemonic in mnemonic_table:\n",
        "        tf_idf = tf[mnemonic] * math.log10(len_block_id / (1 + mnemonic_table[mnemonic]))\n",
        "      else:\n",
        "        tf_idf = tf[mnemonic] * math.log10(len_block_id)\n",
        "      tf_size += tf_idf ** 2\n",
        "      for index in mnemonic_id[mnemonic]:\n",
        "        if index in numerator:\n",
        "          numerator[index] += mnemonic_id[mnemonic][index] * tf_idf\n",
        "        else:\n",
        "          numerator[index] = mnemonic_id[mnemonic][index] * tf_idf\n",
        "        if index in denominator:\n",
        "          denominator[index] += mnemonic_id[mnemonic][index] ** 2\n",
        "        else:\n",
        "          denominator[index] = mnemonic_id[mnemonic][index] ** 2\n",
        "    cos_sim = {}\n",
        "    for index in numerator:\n",
        "      cos_sim[index] = numerator[index] / math.sqrt(denominator[index] * tf_size)\n",
        "    ret.append(min(cos_sim.values()))\n",
        "  ret = np.array(ret)\n",
        "  return ret.mean()\n",
        "\n",
        "def evaluate(path, start, end):\n",
        "  scores = []\n",
        "  file_names = os.listdir(path)\n",
        "  file_names = file_names[start:end]\n",
        "  for index, file_name in enumerate(file_names):\n",
        "    print(\"\\r{} / {}\".format(index + 1, len(file_names)), end=\"\")\n",
        "    try:\n",
        "      blocks = pickle_load(path + file_name)\n",
        "      score = search(blocks)\n",
        "      print(score)\n",
        "      scores.append(score)\n",
        "    except Exception as e:\n",
        "      print(e)\n",
        "  print()\n",
        "  return np.array(scores).mean()\n"
      ],
      "execution_count": 0,
      "outputs": []
    },
    {
      "cell_type": "code",
      "metadata": {
        "id": "wpL6OUDNk-O7",
        "colab_type": "code",
        "outputId": "431c2566-3ffa-45d1-ac58-c5c7cafe8a35",
        "colab": {
          "base_uri": "https://localhost:8080/",
          "height": 124
        }
      },
      "source": [
        "normal_score = evaluate(normal_path, 1000, 1010)\n",
        "mal_score = evaluate(mal_path, 0, 10)"
      ],
      "execution_count": 0,
      "outputs": [
        {
          "output_type": "stream",
          "text": [
            "1 / 100.11938581222020433\n",
            "2 / 10'addiu'\n",
            "3 / 100.34078392455139633\n",
            "4 / 100.0041703784103595\n",
            "5 / 100.30447029632744377\n",
            "6 / 10"
          ],
          "name": "stdout"
        }
      ]
    },
    {
      "cell_type": "code",
      "metadata": {
        "id": "vUX7zqEcb6st",
        "colab_type": "code",
        "outputId": "ba04e201-938f-4901-b5d5-5e34d0905354",
        "colab": {
          "base_uri": "https://localhost:8080/",
          "height": 224
        }
      },
      "source": [
        "f = open(model_path + \"evaluate.txt\", 'w')\n",
        "f.write(str(normal_score) + \"\\n\")\n",
        "f.write(str(mal_score) + \"\\n\")\n",
        "f.close()"
      ],
      "execution_count": 0,
      "outputs": [
        {
          "output_type": "error",
          "ename": "NameError",
          "evalue": "ignored",
          "traceback": [
            "\u001b[0;31m---------------------------------------------------------------------------\u001b[0m",
            "\u001b[0;31mNameError\u001b[0m                                 Traceback (most recent call last)",
            "\u001b[0;32m<ipython-input-13-23b6f7f9430d>\u001b[0m in \u001b[0;36m<module>\u001b[0;34m()\u001b[0m\n\u001b[1;32m      1\u001b[0m \u001b[0mf\u001b[0m \u001b[0;34m=\u001b[0m \u001b[0mopen\u001b[0m\u001b[0;34m(\u001b[0m\u001b[0mmodel_path\u001b[0m \u001b[0;34m+\u001b[0m \u001b[0;34m\"evaluate.txt\"\u001b[0m\u001b[0;34m,\u001b[0m \u001b[0;34m'w'\u001b[0m\u001b[0;34m)\u001b[0m\u001b[0;34m\u001b[0m\u001b[0;34m\u001b[0m\u001b[0m\n\u001b[1;32m      2\u001b[0m \u001b[0;31m#f.write(str(normal_score) + \"\\n\")\u001b[0m\u001b[0;34m\u001b[0m\u001b[0;34m\u001b[0m\u001b[0;34m\u001b[0m\u001b[0m\n\u001b[0;32m----> 3\u001b[0;31m \u001b[0mf\u001b[0m\u001b[0;34m.\u001b[0m\u001b[0mwrite\u001b[0m\u001b[0;34m(\u001b[0m\u001b[0mstr\u001b[0m\u001b[0;34m(\u001b[0m\u001b[0mmal_score\u001b[0m\u001b[0;34m)\u001b[0m \u001b[0;34m+\u001b[0m \u001b[0;34m\"\\n\"\u001b[0m\u001b[0;34m)\u001b[0m\u001b[0;34m\u001b[0m\u001b[0;34m\u001b[0m\u001b[0m\n\u001b[0m\u001b[1;32m      4\u001b[0m \u001b[0mf\u001b[0m\u001b[0;34m.\u001b[0m\u001b[0mclose\u001b[0m\u001b[0;34m(\u001b[0m\u001b[0;34m)\u001b[0m\u001b[0;34m\u001b[0m\u001b[0;34m\u001b[0m\u001b[0m\n",
            "\u001b[0;31mNameError\u001b[0m: name 'mal_score' is not defined"
          ]
        }
      ]
    }
  ]
}