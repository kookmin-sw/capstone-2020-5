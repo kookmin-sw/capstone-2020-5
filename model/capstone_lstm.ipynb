{
  "nbformat": 4,
  "nbformat_minor": 0,
  "metadata": {
    "colab": {
      "name": "capstone-gru.ipynb",
      "provenance": []
    },
    "kernelspec": {
      "name": "python3",
      "display_name": "Python 3"
    }
  },
  "cells": [
    {
      "cell_type": "code",
      "metadata": {
        "id": "zKNbTdrzCSHS",
        "colab_type": "code",
        "outputId": "fff54160-aa60-4d2c-b91c-6241b763f1df",
        "colab": {
          "base_uri": "https://localhost:8080/",
          "height": 34
        }
      },
      "source": [
        "# 구글 드라이브 마운트, 주피터에선 사용 X\n",
        "from google.colab import drive\n",
        "drive.mount('/content/gdrive')"
      ],
      "execution_count": 0,
      "outputs": [
        {
          "output_type": "stream",
          "text": [
            "Drive already mounted at /content/gdrive; to attempt to forcibly remount, call drive.mount(\"/content/gdrive\", force_remount=True).\n"
          ],
          "name": "stdout"
        }
      ]
    },
    {
      "cell_type": "code",
      "metadata": {
        "id": "P3_q9y6uCZEt",
        "colab_type": "code",
        "outputId": "b5b61429-2bed-45ec-d528-9e9cb611e6a1",
        "colab": {
          "base_uri": "https://localhost:8080/",
          "height": 263
        }
      },
      "source": [
        "# 필수 라이브러리 import\n",
        "%tensorflow_version 1.x\n",
        "import numpy as np\n",
        "import pandas as pd\n",
        "import os\n",
        "import tensorflow as tf\n",
        "from keras.utils import to_categorical\n",
        "from keras.models import Sequential\n",
        "from keras.layers import Embedding, Dense, LSTM, GRU\n",
        "import pickle\n",
        "from tensorflow.python.client import device_lib\n",
        "\n",
        "print(device_lib.list_local_devices())"
      ],
      "execution_count": 0,
      "outputs": [
        {
          "output_type": "stream",
          "text": [
            "[name: \"/device:CPU:0\"\n",
            "device_type: \"CPU\"\n",
            "memory_limit: 268435456\n",
            "locality {\n",
            "}\n",
            "incarnation: 13362943725948410153\n",
            ", name: \"/device:XLA_CPU:0\"\n",
            "device_type: \"XLA_CPU\"\n",
            "memory_limit: 17179869184\n",
            "locality {\n",
            "}\n",
            "incarnation: 16347638019605862103\n",
            "physical_device_desc: \"device: XLA_CPU device\"\n",
            "]\n"
          ],
          "name": "stdout"
        }
      ]
    },
    {
      "cell_type": "code",
      "metadata": {
        "id": "_DaLXOxdCaN5",
        "colab_type": "code",
        "colab": {}
      },
      "source": [
        "# 변수 설정\n",
        "normal_path = '/content/gdrive/My Drive/캡스톤/ben/' #정상파일 경로\n",
        "mal_path = '/content/gdrive/My Drive/캡스톤/mnemonic/' #악성파일 경로\n",
        "model_path = '/content/gdrive/My Drive/캡스톤/' #모델 가중치 저장 경로\n",
        "max_len = 32 #n-그램 설정\n",
        "batch_size = 1024\n",
        "epochs = 10\n",
        "vocab_size = 1001\n",
        "count_dict = {}"
      ],
      "execution_count": 0,
      "outputs": []
    },
    {
      "cell_type": "code",
      "metadata": {
        "id": "CXPzOu3qCdIW",
        "colab_type": "code",
        "colab": {}
      },
      "source": [
        "### word_count 생성 ###\n",
        "def word_count(block):\n",
        "  for line in block:\n",
        "      for mnemonics in line:\n",
        "        for mnemonic in mnemonics:\n",
        "          if mnemonic not in count_dict:\n",
        "            count_dict[mnemonic] = 1\n",
        "          else:\n",
        "            count_dict[mnemonic] += 1\n",
        "\n",
        "# 데이터 불러오기\n",
        "def data_load_for_word_count(path):\n",
        "  file_names = os.listdir(path)\n",
        "  file_names = file_names[0:500]\n",
        "  data = []\n",
        "  for index, file_name in enumerate(file_names):\n",
        "    print(\"\\r{} / {}\".format(index + 1, len(file_names)), end=\"\")\n",
        "    f = open(path + file_name, 'rb')\n",
        "    mnemonic = pickle.load(f)\n",
        "    word_count(mnemonic)\n",
        "    #yield mnemonic\n",
        "    f.close()\n",
        "    \n",
        "  print()"
      ],
      "execution_count": 0,
      "outputs": []
    },
    {
      "cell_type": "code",
      "metadata": {
        "id": "2S6M1PTBCepj",
        "colab_type": "code",
        "colab": {}
      },
      "source": [
        "def gen_word_index():\n",
        "  word_index = {}\n",
        "  word_index_dec = sorted(count_dict, key=lambda k : count_dict[k], reverse=True)\n",
        "  for i in range(len(word_index_dec)):\n",
        "      if i < (vocab_size-1):\n",
        "        word_index[word_index_dec[i]] = i + 1\n",
        "  return word_index"
      ],
      "execution_count": 0,
      "outputs": []
    },
    {
      "cell_type": "code",
      "metadata": {
        "id": "Q2RnW5McCg6r",
        "colab_type": "code",
        "colab": {}
      },
      "source": [
        "def get_index(word, word_index):\n",
        "  if word in word_index:\n",
        "    return [word_index[word]]\n",
        "  else:\n",
        "    return [0]\n",
        "\n",
        "def seqs_gen(path, word_index, type=None):\n",
        "  file_names = os.listdir(path)\n",
        "  if type == 'train':\n",
        "    file_names = file_names[:400]\n",
        "  elif type == 'valid':\n",
        "    file_names = file_names[400:500]\n",
        "  zero_vec = [0] * (max_len - 1)\n",
        "  for index, file_name in enumerate(file_names):\n",
        "    f = open(path + file_name, 'rb')\n",
        "    block = pickle.load(f)\n",
        "    for line in block:\n",
        "      for mnemonics in line:\n",
        "        if len(mnemonics) == 0:\n",
        "          seqs = zero_vec + [0]\n",
        "          x = np.array([seqs[:-1]])\n",
        "          y = to_categorical([seqs[-1]], num_classes=vocab_size)\n",
        "          yield (x, y)\n",
        "        else:\n",
        "          seqs = zero_vec + get_index(mnemonics[0], word_index)\n",
        "          x = np.array([seqs[:-1]])\n",
        "          y = to_categorical([seqs[-1]], num_classes=vocab_size)\n",
        "          yield (x, y)\n",
        "          for i in range(1, len(mnemonics)):\n",
        "            seqs = seqs[1:] + get_index(mnemonics[i], word_index)\n",
        "            x = np.array([seqs[:-1]])\n",
        "            y = to_categorical([seqs[-1]], num_classes=vocab_size)\n",
        "            yield (x, y)\n",
        "    f.close()\n",
        "\n",
        "def size_get(path, type=None):\n",
        "  file_names = os.listdir(path)\n",
        "  if type == 'train':\n",
        "    file_names = file_names[:400]\n",
        "  elif type == 'valid':\n",
        "    file_names = file_names[400:500]\n",
        "  \n",
        "  len_files = []\n",
        "  for index, file_name in enumerate(file_names):\n",
        "    f = open(path + file_name, 'rb')\n",
        "    file = pickle.load(f)\n",
        "    file_size = 0\n",
        "    for block in file:\n",
        "      block_size = 0\n",
        "      for line in block:\n",
        "        block_size += len(line)\n",
        "      file_size += block_size\n",
        "\n",
        "    len_files.append(file_size)\n",
        "  \n",
        "  return len_files"
      ],
      "execution_count": 0,
      "outputs": []
    },
    {
      "cell_type": "code",
      "metadata": {
        "id": "DrMwcezfChmG",
        "colab_type": "code",
        "outputId": "e9af9ea4-bc72-4c2e-cbaf-d0596ef2548d",
        "colab": {
          "base_uri": "https://localhost:8080/",
          "height": 54
        }
      },
      "source": [
        "f = open(model_path + \"count_dict_400.dat\", 'rb')\n",
        "count_dict = pickle.load(f)\n",
        "f.close()\n",
        "print(count_dict)"
      ],
      "execution_count": 0,
      "outputs": [
        {
          "output_type": "stream",
          "text": [
            "{'mov': 39335710, 'test': 4072773, 'push': 16837173, 'jnz': 2929016, 'xor': 2934410, 'div': 26603, 'cmp': 5624927, 'ja': 255962, 'jbe': 345479, 'lea': 5610665, 'imul': 316683, 'call': 10288440, 'add': 4173930, 'pop': 5260750, 'retn': 2163397, 'inc': 770498, 'jb': 434538, 'sub': 1723280, 'shr': 456384, 'stosd': 60137, 'and': 1752935, 'stosb': 43916, 'movsd': 541711, 'movsb': 4839, 'jz': 4333705, 'jnb': 252121, 'jmp': 3645206, 'dec': 294485, 'movzx': 763026, 'jle': 307910, 'neg': 150400, 'sbb': 138804, 'or': 869239, 'cmpsb': 7070, 'jge': 152645, 'setnz': 74570, 'movsx': 122091, 'jl': 429191, 'shl': 428986, 'jg': 330646, 'nop': 196722, 'adc': 336071, 'js': 251864, 'jns': 121666, 'setz': 69031, 'sar': 276605, 'cdq': 156063, 'mul': 42219, 'setnle': 23240, 'setle': 2061, 'fild': 33303, 'fadd': 48050, 'fld': 463523, 'fstp': 374349, 'fst': 53635, 'fxch': 96035, 'fucompp': 5499, 'fnstsw': 47825, 'jnp': 19680, 'setnbe': 3407, 'fcomp': 18439, 'jp': 27641, 'fchs': 10942, 'setb': 4102, 'setnl': 3644, 'idiv': 39537, 'not': 64406, 'fmul': 162147, 'shrd': 92730, 'faddp': 67883, 'fcom': 16281, 'fmulp': 32366, 'fdivp': 3429, 'cmpsd': 2745, 'movsw': 1882, 'cpuid': 743, 'xorpd': 2251, 'cmovb': 9794, 'movdqa': 66399, 'pxor': 13956, 'pshufd': 4607, 'pmuludq': 693, 'punpckhdq': 2982, 'punpckldq': 4400, 'paddq': 1681, 'psrlq': 6256, 'movq': 131487, 'movd': 42719, 'emms': 1028, 'rol': 31274, 'ror': 20656, 'leave': 97608, 'std': 1394, 'cld': 7299, 'rcr': 1863, 'fnclex': 1362, 'jecxz': 202, 'scasb': 1591, 'xchg': 34185, 'fistp': 5520, 'fsubp': 18019, 'stmxcsr': 1347, 'fnstcw': 3908, 'movapd': 16876, 'andpd': 2819, 'psubd': 2602, 'psllq': 3936, 'ucomisd': 13047, 'cmpltpd': 94, 'subsd': 8184, 'fldz': 26607, 'orpd': 1156, 'setl': 4761, 'fdiv': 8832, 'fsubr': 5241, 'fld1': 14951, 'pushf': 2521, 'popf': 518, 'bts': 95528, 'bt': 3570, 'fstcw': 1502, 'fldcw': 11128, 'frndint': 516, 'fstsw': 2177, 'wait': 6414, 'fdivrp': 3634, 'fldpi': 227, 'shld': 21989, 'stosw': 1788, 'cvttsd2si': 2500, 'cwde': 6752, 'fninit': 220, 'ldmxcsr': 885, 'bswap': 11278, 'movdqu': 24114, 'palignr': 1773, 'punpcklqdq': 2362, 'pshufb': 967, 'paddd': 17232, 'sha256rnds2': 160, 'sha256msg1': 60, 'sha256msg2': 60, 'punpckhqdq': 1262, 'psrld': 1225, 'pslld': 895, 'psrldq': 4596, 'pslldq': 880, 'cmovnz': 25800, 'setns': 1688, 'cmovnb': 181991, 'cmovz': 27936, 'xadd': 31508, 'seto': 9256, 'cmova': 10823, 'cmovs': 3829, 'cmpxchg': 9246, 'fucomip': 2380, 'lahf': 15509, 'fcomi': 40, 'cmovg': 9592, 'sets': 1508, 'cmovl': 9594, 'cmovge': 4409, 'fcomip': 177, 'cmovle': 5812, 'xorps': 99611, 'movlpd': 82394, 'cvtdq2pd': 12549, 'addsd': 25702, 'cvtpd2ps': 4476, 'divss': 3695, 'comiss': 7705, 'divsd': 32950, 'int': 130180, 'xgetbv': 82, 'comisd': 88423, 'setnb': 1844, 'mulsd': 16684, 'movaps': 50388, 'cmovnp': 7, 'cvtsd2ss': 1172, 'cvtdq2ps': 6315, 'cvtps2pd': 3899, 'cmovbe': 6960, 'pcmpistri': 294, 'punpcklbw': 14142, 'punpcklwd': 7876, 'pshuflw': 1634, 'pcmpeqw': 1484, 'por': 6345, 'pmovmskb': 1175, 'bsf': 1278, 'cvtss2sd': 1121, 'subpd': 2354, 'cmpeqsd': 257, 'pand': 6793, 'psubq': 302, 'pcmpgtd': 267, 'pandn': 1888, 'cvtsi2sd': 575, 'bsr': 2111, 'orps': 255, 'cmpnlepd': 144, 'unpcklpd': 1443, 'pextrw': 2897, 'mulpd': 9102, 'addpd': 6992, 'unpckhpd': 874, 'movlhps': 843, 'pcmpeqb': 1197, 'pinsrw': 1441, 'jno': 7418, 'fsqrt': 2000, 'fucom': 1703, 'fcompp': 3827, 'fldln2': 73, 'fyl2x': 215, 'fxam': 384, 'xlat': 266, 'f2xm1': 159, 'fscale': 397, 'fabs': 4649, 'sahf': 2398, 'fldl2e': 90, 'ftst': 230, 'fsub': 30809, 'crc32': 11, 'psubusw': 482, 'pclmulqdq': 108, 'pextrd': 22, 'fsubrp': 10015, 'aeskeygenassist': 65, 'pinsrd': 48, 'aesimc': 9, 'lfence': 436, 'paddb': 765, 'aesenc': 190, 'aesenclast': 81, 'rdrand': 18, 'loop': 207, 'pshufw': 899, 'pcmpgtb': 1057, 'sha1msg1': 48, 'sha1rnds4': 60, 'sha1nexte': 60, 'sha1msg2': 48, 'vzeroall': 18, 'vmovdqa': 28898, 'vmovdqu': 11411, 'vpshufb': 281, 'vpaddd': 13551, 'vpalignr': 340, 'vpsrldq': 485, 'vpxor': 2847, 'vpsrld': 1539, 'vpslldq': 163, 'vpor': 1226, 'vpslld': 1029, 'hnt jnb': 1, 'vpshufd': 4342, 'vpsrlq': 1799, 'rorx': 576, 'andn': 140, 'psllw': 4844, 'psrlw': 3647, 'movss': 80330, 'lodsd': 453, 'setbe': 1495, 'movups': 88237, 'pmulld': 56, 'cmovns': 3783, 'cbw': 337, 'mulss': 19054, 'cvttss2si': 2271, 'movupd': 2716, 'unpcklps': 766, 'ucomiss': 2516, 'movhpd': 235, 'addss': 11842, 'subss': 6819, 'pmovzxbd': 6, 'pinsrb': 54, 'cmpneqpd': 15, 'fucomp': 2005, 'fstenv': 7, 'fldenv': 176, 'fprem': 100, 'sqrtsd': 222, 'andnpd': 67, 'cmpltsd': 35, 'shufpd': 446, 'cvtsd2si': 208, 'pmaxsw': 2340, 'pcmpeqd': 744, 'fpatan': 153, 'fcos': 209, 'fprem1': 104, 'fsave': 49, 'frstor': 63, 'fsin': 251, 'fptan': 91, 'fdivr': 2400, 'prefetchnta': 304, 'movntq': 233, 'psubw': 12240, 'pmullw': 5653, 'paddw': 25628, 'packuswb': 5673, 'punpckhbw': 4669, 'psraw': 8028, 'paddsw': 6619, 'punpckhwd': 5775, 'pusha': 628, 'popa': 929, 'packsswb': 405, 'prefetch': 13, 'pmulhw': 4215, 'packssdw': 4532, 'pmaddwd': 7461, 'ldarg.0': 1210699, 'ldarg.1': 407053, 'ret': 570047, 'ldnull': 97093, 'stfld': 213530, 'leave.s': 53954, 'ldfld': 513400, 'ceq': 21724, 'stloc.0': 188727, 'ldloc.0': 381898, 'brfalse.s': 216421, 'stloc.1': 97975, 'br.s': 114443, 'ldstr': 264228, 'callvirt': 815774, 'ldloc.1': 188325, 'ldarg.2': 149414, 'dup': 99964, 'brtrue.s': 152588, 'ldsfld': 102653, 'ldc.i4.1': 190405, 'ldc.i4.0': 243612, 'newobj': 201955, 'throw': 68030, 'castclass': 43120, 'stloc.2': 66306, 'ldloc.2': 116497, 'stloc.3': 42542, 'ldloc.3': 79691, 'stloc.s': 144354, 'ldloc.s': 265647, 'endfinally': 28322, 'ldc.i4.m1': 19848, 'cgt': 2505, 'cgt.un': 5662, 'starg.s': 9358, 'isinst': 36688, 'ldtoken': 35796, 'newarr': 42465, 'stelem.ref': 95278, 'ldarga.s': 18670, 'constrained.': 5899, 'ldc.i4.2': 48904, 'ldc.i4.3': 25128, 'ldc.i4.4': 25014, 'ldc.i4.5': 14984, 'ldc.i4.6': 10271, 'ldc.i4.7': 9147, 'ldc.i4.8': 13394, 'ldc.i4.s': 100045, 'stsfld': 29808, 'brfalse': 15153, 'ldloca.s': 116622, 'br': 36065, 'ldftn': 22503, 'ldelem.ref': 16508, 'ldlen': 22839, 'conv.i4': 24308, 'blt.s': 24163, 'ldarg.3': 66106, 'ldarg.s': 66779, 'initobj': 11578, 'clt': 2219, 'beq.s': 31428, 'ldc.i4': 65620, 'box': 31349, 'ldflda': 43637, 'rethrow': 3874, 'brtrue': 11883, 'stelem.i2': 2481, 'bgt.s': 6571, 'bne.un.s': 43808, 'unbox.any': 14850, 'stind.ref': 8728, 'ldind.ref': 6901, 'bgt.un.s': 2657, 'ble.s': 14346, 'beq': 8572, 'ldobj': 2418, 'stobj': 4102, 'ldc.r8': 10260, 'stelem.i4': 3329, 'switch': 8592, 'ldelem.i4': 2503, 'bge.s': 12103, 'ldelem.u2': 2407, 'conv.u2': 3038, 'ldind.i4': 8931, 'stind.i4': 9206, 'blt': 3463, 'rem': 1189, 'stelem.i1': 3566, 'ldelem.u1': 4016, 'ldsflda': 3917, 'stind.i1': 4914, 'conv.r8': 3020, 'sub.ovf': 112, 'conv.u1': 3193, 'conv.u': 8708, 'ldelema': 10614, 'conv.i': 9947, 'mul.ovf.un': 200, 'localloc': 201, 'ldind.i': 397, 'stind.i': 462, 'clt.un': 188, 'blt.un.s': 1071, 'conv.i8': 10630, 'conv.i2': 876, 'ldind.u1': 2259, 'conv.u8': 2189, 'ldind.r8': 461, 'ldind.i2': 782, 'stind.r8': 576, 'stind.i2': 1996, 'ldelem': 1405, 'stelem': 3287, 'stelem.i': 36, 'ldelem.i': 71, 'sizeof': 1420, 'les': 92, 'fucomi': 1239, 'tzcnt': 34, 'ud2': 680, 'ldc.r4': 8032, 'ldvirtftn': 432, 'bne.un': 3069, 'ble': 1314, 'bgt.un': 408, 'ldelem.i2': 93, 'bge': 694, 'ble.un.s': 1778, 'conv.ovf.i': 134, 'ldc.i8': 1323, 'ldelem.i8': 371, 'bgt': 628, 'shr.un': 1259, 'ldind.i8': 475, 'stind.i8': 369, 'stelem.i8': 101, 'ldelem.u4': 704, 'conv.r4': 1931, 'conv.i1': 96, 'volatile.': 5196, 'stelem.r4': 129, 'ldelem.r4': 237, 'ldind.r4': 388, 'stind.r4': 370, 'bge.un.s': 1496, 'conv.u4': 328, 'ldelem.i1': 119, 'stelem.r8': 131, 'ldelem.r8': 176, 'pause': 1258, 'cmpxchg8b': 716, 'btr': 3569, 'rdtsc': 248, 'fimul': 677, 'fist': 91, 'vxorps': 26116, 'vmovsd': 211296, 'vcmpneqps': 867, 'vpmovmskb': 819, 'vmovshdup': 18065, 'vmovsldup': 17740, 'vshufps': 37063, 'vmulps': 45907, 'vfmaddsub231ps': 12260, 'vaddps': 47739, 'vmovups': 205604, 'vmovhps': 2827, 'vinsertf128': 22306, 'vfmaddsub213ps': 12853, 'vextractf128': 18052, 'vmovhlps': 4508, 'vzeroupper': 11022, 'vmovhpd': 16084, 'vmovupd': 223671, 'vbroadcastsd': 11432, 'vxorpd': 27087, 'vmovaps': 14491, 'vmovss': 78706, 'vmovlhps': 553, 'vmovq': 6135, 'vucomiss': 1786, 'vmulss': 17206, 'vfmsub231ss': 2203, 'vfmadd213ss': 4633, 'vfmadd231ss': 10253, 'vfnmadd231ss': 1087, 'vbroadcastss': 11013, 'vextractps': 5292, 'vpbroadcastd': 11589, 'vpmulld': 3692, 'vpcmpeqd': 1994, 'vgatherdps': 3492, 'vinsertps': 3222, 'vunpcklps': 3555, 'vaddss': 11667, 'vperm2f128': 5969, 'vfmadd213ps': 12758, 'vfmadd132ps': 1152, 'vfmaddsub132ps': 223, 'vsqrtss': 152, 'vdivss': 3147, 'vdivps': 495, 'vaddsubps': 3545, 'vfmsub213ss': 983, 'vpermpd': 625, 'vmovapd': 8180, 'vcvtps2pd': 5810, 'vmulpd': 60792, 'vunpckhpd': 29340, 'vmovddup': 25229, 'vshufpd': 27375, 'vfmaddsub213pd': 22058, 'vaddpd': 56579, 'vdivpd': 2203, 'vcvtpd2ps': 1970, 'vsubps': 28729, 'vucomisd': 2600, 'vfmadd213sd': 6161, 'vandpd': 2227, 'vaddsd': 30327, 'vfmadd231pd': 22978, 'vmulsd': 30673, 'vunpcklpd': 3221, 'vfmadd213pd': 17195, 'vfmadd231sd': 11388, 'vcomisd': 1863, 'vdivsd': 3657, 'vsqrtsd': 174, 'vfnmadd231sd': 1501, 'vfnmadd213sd': 1627, 'vfnmadd231pd': 8156, 'vsubsd': 24732, 'vfnmadd213pd': 8408, 'vsubpd': 35119, 'vfmadd132sd': 454, 'vfmsub213sd': 1425, 'vfnmadd132sd': 119, 'vfmsub231sd': 2217, 'vcmpneqpd': 879, 'vptest': 856, 'vbroadcastf128': 3074, 'vfmadd132pd': 1263, 'vfmaddsub132pd': 654, 'mulx': 330, 'vcmpeqsd': 62, 'vmovd': 8165, 'vandps': 2054, 'vunpckhps': 1641, 'vfmadd231ps': 20667, 'vcmpeqss': 57, 'vmovlpd': 403, 'shlx': 524, 'shrx': 30, 'vcomiss': 1330, 'vfnmadd213ss': 1436, 'vfnmadd231ps': 7509, 'vsubss': 6681, 'vfnmadd213ps': 6951, 'vpermps': 289, 'vfmadd132ss': 433, 'vfnmadd132ss': 93, 'vfmsub231ps': 2249, 'prefetcht0': 565, 'vpermilps': 367, 'vmovlps': 10841, 'vfmsub213ps': 1349, 'vfnmsub231ps': 103, 'vcvtsi2ss': 1111, 'vcvtss2sd': 3841, 'vfnmsub231ss': 323, 'vrcpps': 136, 'vcmpeqpd': 177, 'vmaskmovpd': 460, 'vhaddpd': 258, 'vextracti128': 703, 'vgatherdpd': 2347, 'vcvtsi2sd': 1390, 'vpshuflw': 1227, 'vfmsub213pd': 3077, 'vblendpd': 48, 'vpblendd': 96, 'vpunpckldq': 854, 'vpcmpgtd': 5408, 'vmovmskps': 141, 'vcmpgepd': 24, 'vpermd': 231, 'vmaxpd': 282, 'vcvttpd2dq': 77, 'vinserti128': 190, 'vminpd': 247, 'vpblendvb': 209, 'vpand': 1791, 'vminsd': 165, 'vcvttsd2si': 122, 'vmaxsd': 237, 'vcmpleps': 59, 'vmaxps': 275, 'vmaxss': 217, 'vcmpeqps': 118, 'vpminsd': 130, 'vcmpgeps': 35, 'vminps': 243, 'vminss': 157, 'vcmplepd': 62, 'vpunpcklqdq': 923, 'vmaskmovps': 1322, 'vhaddps': 266, 'vcvtsd2ss': 1469, 'vblendps': 169, 'vfmsub231pd': 4325, 'vpermilpd': 196, 'vaddsubpd': 1831, 'vfnmsub231pd': 78, 'vfmaddsub231pd': 3868, 'vfnmsub231sd': 241, 'vdppd': 3, 'vpcmpeqb': 4826, 'vpsllq': 572, 'vpsubd': 1713, 'vpgatherdd': 244, 'prefetcht2': 48, 'vsqrtps': 152, 'vblendvps': 259, 'vandnps': 219, 'vorps': 264, 'vpsllvd': 92, 'vrsqrtps': 30, 'vcmpgtss': 60, 'vcmpltps': 30, 'vcmpgtps': 25, 'vfnmadd132ps': 1068, 'vfmsub132ps': 180, 'vfnmsub213ss': 16, 'vfnmsub213ps': 54, 'vsqrtpd': 261, 'vblendvpd': 358, 'vorpd': 352, 'vandnpd': 300, 'vpmovsxdq': 715, 'vcmpgtsd': 72, 'vcmpgtpd': 55, 'vfmsub132sd': 87, 'vfnmsub132sd': 9, 'vfnmadd132pd': 760, 'vcmpltsd': 6, 'vfnmsub213sd': 16, 'vfmsub132ss': 75, 'vfnmsub132ss': 7, 'vcmpltss': 2, 'fcmovbe': 107, 'fcmovnbe': 237, 'vcmpltpd': 101, 'vfnmsub213pd': 114, 'vfmsub132pd': 278, 'blsr': 37, 'movlps': 459, 'movhps': 1339, 'shufps': 3440, 'addps': 4391, 'subps': 2919, 'mulps': 4896, 'unpckhps': 350, 'sarx': 5, 'vfmsubadd213ps': 839, 'vpabsd': 8, 'vfmsubadd213pd': 422, 'vfmsubadd132pd': 2, 'vpunpckhqdq': 613, 'vcvtdq2pd': 689, 'vpaddq': 2093, 'vcvtdq2ps': 538, 'movhlps': 960, 'vmovntpd': 72, 'vpmaskmovd': 146, 'vpmaxsd': 193, 'vmovmskpd': 225, 'vcvttss2si': 86, 'vpmaxud': 12, 'vrsqrtss': 1, 'fcmove': 28, 'vpminud': 4, 'andps': 1417, 'vpsllw': 107, 'vmovntdq': 8, 'sfence': 209, 'in': 504, 'movsldup': 5, 'movshdup': 5, 'addsubps': 22, 'movddup': 15, 'addsubpd': 6, 'lddqu': 242, 'cvtsi2ss': 277, 'starg': 58, 'ldarg': 39, 'unbox': 37, 'div.un': 236, 'minsd': 160, 'maxss': 289, 'minss': 800, 'divpd': 27, 'maxsd': 182, 'cmovp': 5, 'fldlg2': 93, 'cmpnlesd': 10, 'sqrtpd': 1, 'fisttp': 43, 'fnstenv': 167, 'fbstp': 56, 'fiadd': 302, 'rcl': 287, 'ldind.u4': 826, 'ldind.u2': 1991, 'rem.un': 124, 'add.ovf': 539, 'conv.r.un': 203, 'conv.ovf.i4.un': 9, 'conv.ovf.u4.un': 25, 'bge.un': 189, 'ldind.i1': 235, 'arglist': 3, 'mul.ovf': 232, 'refanytype': 4, 'blt.un': 175, 'ble.un': 143, 'add.ovf.un': 44, 'conv.ovf.u.un': 32, 'conv.ovf.i4': 18, 'readonly.': 23, 'fisub': 169, 'fidiv': 663, 'lodsb': 663, 'scasw': 80, 'pushfw': 2, 'popfw': 1, 'pabsd': 6, 'pmaxsd': 16, 'psrad': 7081, 'vpcmpeqw': 642, 'movmskpd': 7, 'movmskps': 111, 'cvtps2dq': 135, 'retf': 776, 'bndstx': 2, 'bndldx': 2, 'cmpsw': 92, 'ffree': 140, 'lodsw': 113, 'fclex': 3207, 'cmc': 456, 'jo': 4314, 'insb': 3372, 'arpl': 983, 'bound': 2582, 'aaa': 3594, 'outsd': 988, 'outsb': 2595, 'insd': 944, 'outsw': 35, 'outs': 211, 'ins': 52, 'fincstp': 3, 'conv.ovf.i2.un': 84, 'cmpltps': 107, 'cmpeqps': 27, 'pshufhw': 278, 'pminub': 322, 'pmaxub': 619, 'pminuw': 8, 'pmaxuw': 20, 'pminud': 14, 'pmaxud': 30, 'psubusb': 3539, 'paddusb': 885, 'psubb': 1079, 'cli': 253, 'sti': 260, 'fidivr': 98, 'btc': 74, 'psubsw': 3301, 'pcmpgtw': 1036, 'paddusw': 1498, 'pminsw': 1789, 'pmulhuw': 329, 'fnsave': 19, 'sqrtss': 32, 'cvtss2si': 37, 'fsincos': 38, 'movntdqa': 29, 'movntdq': 173, 'minps': 68, 'maxps': 128, 'rcpps': 32, 'cmpneqps': 9, 'cvttps2dq': 35, 'rsqrtss': 7, 'rcpss': 21, 'cvttps2pi': 8, 'pavgb': 2449, 'fisubr': 81, 'movntps': 110, 'paddsb': 557, 'psubsb': 225, 'pfnacc': 1, 'pfacc': 2, 'cvtpi2ps': 60, 'cvtps2pi': 56, 'divps': 49, 'sqrtps': 21, 'cmpleps': 55, 'pavgw': 790, 'pabsw': 432, 'psadbw': 3955, 'movq2dq': 229, 'phaddw': 13, 'phaddd': 81, 'movdq2q': 76, 'fcmovnb': 12, 'fcmovb': 12, 'setnp': 30, 'setp': 8, 'fyl2xp1': 9, 'maskmovdqu': 15, 'cmpltss': 6, 'mfence': 49, 'vperm2i128': 8, 'vpmuldq': 2, 'vcvtps2dq': 18, 'vpsrad': 1756, 'vpshufhw': 10, 'vpunpcklbw': 605, 'vpsubw': 1857, 'vpmullw': 32, 'vpaddw': 2863, 'vpsrlw': 207, 'vpaddb': 48, 'vpunpckhbw': 299, 'vpackuswb': 396, 'pminsd': 11, 'pmuldq': 32, 'ptest': 1, 'cwd': 3, 'aad': 199, 'daa': 151, 'cmpnleps': 21, 'femms': 20, 'pfmul': 559, 'pfadd': 591, 'pfrsqrt': 2, 'pfrsqit1': 2, 'pfrcpit2': 2, 'andnps': 133, 'pmovzxwd': 10, 'cmpnltpd': 2, 'out': 505, 'cmplesd': 4, 'hlt': 244, 'invlpg': 49, 'rdmsr': 3, 'wrmsr': 3, 'wbinvd': 8, 'clflush': 1, 'fxrstor': 3, 'xrstor': 9, 'scasd': 116, 'movnti': 65, 'iret': 263, 'sysexit': 2, 'lss': 1, 'clts': 3, 'fxsave': 13, 'xsave': 5, 'lar': 1, 'lldt': 5, 'sgdt': 8, 'sidt': 8, 'str': 3, 'sldt': 2, 'lgdt': 1, 'lidt': 3, 'ltr': 4, 'rdpmc': 2, 'stc': 219, 'clc': 202, 'xsetbv': 1, 'vpermq': 50, 'conv.ovf.i1.un': 35, 'aesdec': 136, 'aesdeclast': 48, 'conv.ovf.i8': 9, 'calli': 165, 'endfilter': 41, 'unaligned.': 28, 'cpblk': 74, 'initblk': 52, 'cpobj': 44, 'conv.ovf.u': 4, 'conv.ovf.u2.un': 33, 'conv.ovf.u1.un': 34, 'sub.ovf.un': 8, 'loopne': 70, 'insw': 4, 'cmpnltps': 6, 'aam': 130, 'das': 100, 'sal': 110, 'conv.ovf.u1': 4, 'conv.ovf.i8.un': 4, 'pmovsxbd': 3, 'icebp': 101, 'into': 106, 'lds': 82, 'enterw': 1, 'enter': 109, 'aas': 103, 'loope': 100, 'setalc': 95, 'retfw': 4, 'movs': 8, 'fstp1': 5, 'cmps': 4, 'lgs': 1, 'hnt jbe': 2, 'hnt js': 1, 'ud1': 1, 'ficomp': 28, 'fbld': 12, 'fstp9': 4, 'fxch7': 5, 'hnt jge': 1, 'vcmppd': 1, 'ud0': 3, 'fsetpm': 3, 'ficom': 13, 'stos': 5, 'lock': 4, 'sysret': 2, 'fcomp5': 6, 'vpsadbw': 37, 'ffreep': 2, 'scas': 8, 'svts': 1, 'lmsw': 1, 'fndisi': 1, 'ht jnp': 1, 'fcmovu': 3, 'fstp8': 3, 'loopwe': 1, 'fcmovne': 47, 'lsl': 1, 'lods': 3, 'cmovno': 1, 'ht jnz': 1, 'hnt jb': 2, 'fxch4': 4, 'syscall': 1, 'maskmovq': 1, 'iretw': 2, 'fcmovnu': 4, 'rsqrtps': 4, 'fxtract': 2, 'ht js': 1, 'hnt jo': 1, 'pushaw': 1, 'hnt jp': 1, 'fnop': 1, 'hnt jz': 1, 'xbegin': 1, 'fdecstp': 1, 'conv.ovf.i.un': 9, 'popaw': 7, 'cmpless': 1, 'cmpeqss': 1, 'mkrefany': 6, 'conv.ovf.u4': 3, 'pswapd': 11, 'pfsub': 542, 'fldl2t': 17, 'hsubps': 1, 'pf2id': 4, 'pmulhrsw': 529, 'pavgusb': 184, 'haddps': 8, 'psignd': 9, 'packusdw': 23, 'pfpnacc': 2, 'vpmacsdql': 4, 'vpunpckhdq': 332, 'pmaddubsw': 585, 'vpavgw': 144, 'vpsubusb': 619, 'vpcmpgtb': 218, 'vpsubb': 156, 'vpavgb': 203, 'vpaddusb': 117, 'vpmaxub': 35, 'vpminub': 26, 'vpunpcklwd': 687, 'vpunpckhwd': 657, 'vpsubusw': 68, 'vpcmpgtw': 228, 'vpsraw': 511, 'vpandn': 310, 'vpmaxsw': 239, 'vpminsw': 264, 'vpackssdw': 716, 'vpaddsw': 43, 'vpmovzxbw': 6, 'vpbroadcastb': 23, 'vpinsrw': 21, 'vpmaddwd': 1476, 'vpsignw': 26, 'vpbroadcastw': 153, 'vbroadcasti128': 3, 'vpacksswb': 7, 'vpmaddubsw': 74, 'vpminuw': 44, 'pmovsxwd': 9, 'cvtpi2pd': 4, 'psignw': 22, 'vphaddubq': 4, 'pmulhrw': 4, 'pfcmpge': 2, 'vpmulhrsw': 410, 'vpsubsb': 26, 'vpaddsb': 105, 'vpabsw': 161, 'vpackusdw': 7, 'vpextrw': 26, 'vpinsrd': 2, 'vphminposuw': 1, 'mpsadbw': 320, 'vpsubsw': 2, 'vpmuludq': 579, 'pblendw': 15, 'phminposuw': 1, 'blendps': 6, 'popcnt': 222, 'conv.ovf.i1': 1, 'conv.ovf.i2': 1, 'conv.ovf.u2': 2, 'minpd': 1, 'maxpd': 1, 'cvtpd2dq': 3, 'vstmxcsr': 482, 'vldmxcsr': 524, 'vrndscaleps': 149, 'kmovw': 6851, 'vpternlogd': 1892, 'vpandd': 1329, 'vpcmpneqd': 132, 'vpandnd': 801, 'vptestmd': 480, 'vrcp14ps': 484, 'vfpclassps': 79, 'vrsqrt14ps': 81, 'vcmpgt_oqps': 25, 'kortestw': 773, 'vgetexpps': 306, 'vgetmantps': 237, 'vpermi2ps': 249, 'vscalefps': 199, 'vpermt2ps': 608, 'vcmpge_oqps': 30, 'vrangeps': 2, 'vcmple_oqps': 112, 'vblendmps': 343, 'vpxord': 4649, 'vpord': 171, 'vcmpngt_uqps': 61, 'vcmpnle_uqps': 108, 'vextractf32x8': 112, 'vinsertf32x8': 81, 'vcmpnlt_uqps': 78, 'vcmplt_oqps': 156, 'knotw': 321, 'vreduceps': 50, 'vpcmpltd': 474, 'vpcmpled': 103, 'vcmpnge_uqps': 22, 'vpcmpnltd': 65, 'kxorw': 315, 'vcmpgesd': 13, 'vextracti32x8': 144, 'korw': 172, 'vfixupimmps': 12, 'vpmovzxdq': 175, 'vrndscalepd': 210, 'vpbroadcastq': 881, 'vpmovqd': 759, 'vpternlogq': 796, 'vpandnq': 523, 'vrcp14pd': 300, 'vfpclasspd': 70, 'vrsqrt14pd': 88, 'vcmpgt_oqpd': 26, 'vgetexppd': 301, 'vgetmantpd': 246, 'vpermi2pd': 280, 'vscalefpd': 212, 'vpermt2pd': 607, 'vcmpge_oqpd': 33, 'vcmplt_oqpd': 158, 'vcmpnle_uqpd': 129, 'vpandq': 717, 'vcmpunordpd': 126, 'vpmullq': 423, 'vpxorq': 1064, 'vporq': 114, 'vcmpngt_uqpd': 75, 'kunpckbw': 309, 'vblendmpd': 176, 'vcmple_oqpd': 87, 'vpcmpeqq': 101, 'vinserti32x8': 122, 'vcmpnlt_uqpd': 108, 'vreducepd': 41, 'vpsubq': 139, 'vcmpnge_uqpd': 18, 'vpsraq': 18, 'vpcmpneqq': 46, 'vfixupimmpd': 15, 'vshuff32x4': 4253, 'vpmovd2m': 97, 'kandw': 572, 'vcmpless': 7, 'vmovdqu32': 8332, 'vcmpnle_uqsd': 2, 'vcmpnlt_uqsd': 1, 'vcmplesd': 10, 'vcmpnltsd': 2, 'kmovb': 94, 'vmovdqu64': 954, 'vcmpnless': 3, 'vcmpnlesd': 2, 'vpmovq2m': 14, 'vcmplt_oqss': 8, 'vcmple_oqss': 2, 'vcmpordss': 6, 'vcmpunordps': 24, 'vpcmpnltq': 37, 'vcmplt_oqsd': 8, 'vcmple_oqsd': 2, 'vcmpordsd': 6, 'vpcmpgtq': 473, 'vpcmpleq': 4, 'vcvttsd2usi': 1, 'vcmpngtss': 4, 'vcmpngtsd': 4, 'kxnorw': 303, 'valignd': 235, 'vinserti32x4': 78, 'vpmovm2w': 37, 'vpmovb2m': 37, 'kmovd': 63, 'vinsertf32x4': 162, 'vextracti64x4': 241, 'vcompressps': 66, 'vcompresspd': 90, 'vpexpandq': 26, 'vinsertf64x4': 328, 'vscatterdps': 1751, 'kshiftrw': 265, 'vpexpandd': 12, 'vpmovm2q': 99, 'vscatterdpd': 2150, 'vpcmpltq': 3, 'vexpandps': 6, 'vexpandpd': 9, 'kandnw': 323, 'vcmpnlepd': 18, 'vcmpnleps': 16, 'vcmpnltpd': 131, 'vcmpngtps': 30, 'vcmpnltps': 63, 'vmovdqa32': 516, 'vextractf64x4': 248, 'vcvttps2dq': 111, 'vcmpngeps': 5, 'vroundps': 4, 'vroundss': 1, 'vcvtss2si': 1, 'vmovdqa64': 132, 'vpermt2d': 69, 'vroundpd': 11, 'vcvtpd2dq': 20, 'vcvtsd2si': 1, 'vinserti64x4': 86, 'vpcompressd': 82, 'vpcmpnequq': 53, 'vmovdqu8': 48, 'vpmovzxbd': 9, 'vpconflictd': 10, 'vplzcntd': 10, 'vpbroadcastmw2d': 20, 'vptestnmd': 68, 'vpscatterdd': 10, 'vpcmpnltud': 7, 'vpcmpleud': 5, 'vcvtudq2pd': 18, 'vcvtusi2sd': 24, 'vcvtudq2ps': 29, 'vpcmpltud': 61, 'vcvttpd2udq': 3, 'vpsrlvd': 5, 'vshufi32x4': 48, 'prefetcht1': 3, 'vcvtusi2ss': 3, 'vaesenc': 40, 'vaesenclast': 10, 'vpclmulqdq': 72, 'vpmovzxwd': 4, 'vpermi2d': 76, 'vmovdqu16': 2, 'vcmpngtpd': 49, 'vbroadcastf32x4': 8, 'valignq': 32, 'vextractf32x4': 204, 'vcmpneqsd': 44, 'vcmpneqss': 44, 'vpermi2q': 107, 'vpermt2q': 149, 'vshufi64x2': 2, 'vpblendmq': 42, 'vcvtqq2pd': 240, 'vpblendmd': 42, 'vcvtqq2ps': 288, 'kshiftlw': 4, 'vcmpgess': 6, 'vpcmpnltuq': 6, 'vmovntps': 4, 'vpcext': 1, 'pi2fd': 17, 'pfsubr': 2, 'setno': 2}\n"
          ],
          "name": "stdout"
        }
      ]
    },
    {
      "cell_type": "code",
      "metadata": {
        "id": "zkNd8g5QCksy",
        "colab_type": "code",
        "colab": {}
      },
      "source": [
        "word_index = gen_word_index()"
      ],
      "execution_count": 0,
      "outputs": []
    },
    {
      "cell_type": "code",
      "metadata": {
        "id": "krvMszVbCmz_",
        "colab_type": "code",
        "colab": {}
      },
      "source": [
        "train_lens = size_get(normal_path, 'train')\n",
        "train_size = sum(train_lens)"
      ],
      "execution_count": 0,
      "outputs": []
    },
    {
      "cell_type": "code",
      "metadata": {
        "id": "HJnUy0ylCmY_",
        "colab_type": "code",
        "colab": {}
      },
      "source": [
        "# 모델 정의\n",
        "model = Sequential()\n",
        "model.add(Embedding(vocab_size, 10, input_length=max_len-1))\n",
        "model.add(LSTM(128))\n",
        "model.add(Dense(vocab_size, activation='softmax'))"
      ],
      "execution_count": 0,
      "outputs": []
    },
    {
      "cell_type": "code",
      "metadata": {
        "id": "iX5lnfizCowm",
        "colab_type": "code",
        "outputId": "1f8aedb0-ab76-45c9-efa2-2a46cda89894",
        "colab": {
          "base_uri": "https://localhost:8080/",
          "height": 263
        }
      },
      "source": [
        "# 모델 최초 생성\n",
        "model.compile(loss='categorical_crossentropy',\n",
        "              optimizer='adam',\n",
        "              metrics=['accuracy'])\n",
        "model.fit(seqs_gen(normal_path, word_index, 'train'),\n",
        "          steps_per_epoch=train_size/8192,\n",
        "          epochs=epochs,\n",
        "          verbose=2)"
      ],
      "execution_count": 0,
      "outputs": [
        {
          "output_type": "stream",
          "text": [
            " - 225s - loss: 1.6780 - accuracy: 0.4852\n",
            "Epoch 5/10\n",
            " - 225s - loss: 1.6785 - accuracy: 0.5086\n",
            "Epoch 6/10\n",
            " - 221s - loss: 1.7671 - accuracy: 0.4964\n",
            "Epoch 7/10\n",
            " - 227s - loss: 2.1876 - accuracy: 0.3625\n",
            "Epoch 8/10\n",
            " - 230s - loss: 1.8051 - accuracy: 0.4370\n",
            "Epoch 9/10\n",
            " - 223s - loss: 1.9232 - accuracy: 0.4326\n",
            "Epoch 10/10\n",
            " - 219s - loss: 1.8118 - accuracy: 0.4432\n"
          ],
          "name": "stdout"
        },
        {
          "output_type": "execute_result",
          "data": {
            "text/plain": [
              "<keras.callbacks.callbacks.History at 0x7f9bfcea23c8>"
            ]
          },
          "metadata": {
            "tags": []
          },
          "execution_count": 30
        }
      ]
    },
    {
      "cell_type": "code",
      "metadata": {
        "id": "naBEYPwNDd6E",
        "colab_type": "code",
        "colab": {}
      },
      "source": [
        "model.save_weights(model_path + \"lstm_model.h5\")"
      ],
      "execution_count": 0,
      "outputs": []
    },
    {
      "cell_type": "code",
      "metadata": {
        "id": "XxrVMpJBp9lQ",
        "colab_type": "code",
        "colab": {}
      },
      "source": [
        "# 모델 가중치 불러오기\n",
        "model.load_weights(model_path + 'lstm_model.h5')\n",
        "model.compile(loss='categorical_crossentropy',\n",
        "              optimizer='adam',\n",
        "              metrics=['accuracy'])"
      ],
      "execution_count": 0,
      "outputs": []
    },
    {
      "cell_type": "code",
      "metadata": {
        "id": "7LPPByFCCp9m",
        "colab_type": "code",
        "colab": {}
      },
      "source": [
        "# 모델 평가 함수\n",
        "def evaluate(generator, gen_size, dataset):\n",
        "  threshold = round(vocab_size * 0.9)\n",
        "  count = 0\n",
        "  well = 0\n",
        "  index = 0\n",
        "  abnormal = 0\n",
        "  abnormals = []\n",
        "  \n",
        "  for i in range(gen_size):\n",
        "    if i % 1000 == 0:\n",
        "      print(\"\\r{} / {}\".format(i + 1, gen_size), end=\"\")\n",
        "    \n",
        "    x, y = next(generator)\n",
        "    pred_y = model.predict(x)[0]\n",
        "\n",
        "    valid_index = np.where(y == 1)[0]\n",
        "\n",
        "    if valid_index == 0:\n",
        "      pred_per = 0\n",
        "    else:\n",
        "      pred_per = pred_y[valid_index]\n",
        "      pred_y.sort()\n",
        "\n",
        "    if pred_per >= pred_y[threshold]:\n",
        "      well += 1\n",
        "\n",
        "    count += 1\n",
        "    if count == dataset[index]:\n",
        "      abnormal = count - well\n",
        "      score = abnormal / dataset[index]\n",
        "      index += 1\n",
        "      count = 0\n",
        "      well = 0\n",
        "      abnormals.append(score)\n",
        "      f = open(model_path + \"valid_evaluate.txt\", 'a')\n",
        "      f.write(str(score))\n",
        "      f.close()\n",
        "  print()\n",
        "  abnormals = np.array(abnormals)\n",
        "  return abnormals.mean()"
      ],
      "execution_count": 0,
      "outputs": []
    },
    {
      "cell_type": "code",
      "metadata": {
        "id": "YFxkhreLCscn",
        "colab_type": "code",
        "colab": {}
      },
      "source": [
        "# 모델 평가\n",
        "#x_valid, y_valid = list()\n",
        "valid_lens = size_get(normal_path, 'valid')\n",
        "valid_size = sum(valid_lens)"
      ],
      "execution_count": 0,
      "outputs": []
    },
    {
      "cell_type": "code",
      "metadata": {
        "id": "K61TzhntCud9",
        "colab_type": "code",
        "outputId": "8a1066d6-a3f2-4263-d8ee-075d96002e46",
        "colab": {
          "base_uri": "https://localhost:8080/",
          "height": 241
        }
      },
      "source": [
        "import time\n",
        "\n",
        "start_time = time.time()\n",
        "valid_abnormal = evaluate(seqs_gen(normal_path, word_index, 'valid'), valid_size, valid_lens)\n",
        "f = open(model_path + \"valid_evaluate.txt\", 'a')\n",
        "f.write(str(valid_abnormal))\n",
        "f.close()\n",
        "end_time = time.time() - start_time\n",
        "print(end_time)"
      ],
      "execution_count": 0,
      "outputs": [
        {
          "output_type": "error",
          "ename": "NameError",
          "evalue": "ignored",
          "traceback": [
            "\u001b[0;31m---------------------------------------------------------------------------\u001b[0m",
            "\u001b[0;31mNameError\u001b[0m                                 Traceback (most recent call last)",
            "\u001b[0;32m<ipython-input-1-7d3b404257b2>\u001b[0m in \u001b[0;36m<module>\u001b[0;34m()\u001b[0m\n\u001b[1;32m      2\u001b[0m \u001b[0;34m\u001b[0m\u001b[0m\n\u001b[1;32m      3\u001b[0m \u001b[0mstart_time\u001b[0m \u001b[0;34m=\u001b[0m \u001b[0mtime\u001b[0m\u001b[0;34m.\u001b[0m\u001b[0mtime\u001b[0m\u001b[0;34m(\u001b[0m\u001b[0;34m)\u001b[0m\u001b[0;34m\u001b[0m\u001b[0;34m\u001b[0m\u001b[0m\n\u001b[0;32m----> 4\u001b[0;31m \u001b[0mvalid_abnormal\u001b[0m \u001b[0;34m=\u001b[0m \u001b[0mevaluate\u001b[0m\u001b[0;34m(\u001b[0m\u001b[0mseqs_gen\u001b[0m\u001b[0;34m(\u001b[0m\u001b[0mnormal_path\u001b[0m\u001b[0;34m,\u001b[0m \u001b[0mword_index\u001b[0m\u001b[0;34m,\u001b[0m \u001b[0;34m'valid'\u001b[0m\u001b[0;34m)\u001b[0m\u001b[0;34m,\u001b[0m \u001b[0mvalid_size\u001b[0m\u001b[0;34m,\u001b[0m \u001b[0mvalid_lens\u001b[0m\u001b[0;34m)\u001b[0m\u001b[0;34m\u001b[0m\u001b[0;34m\u001b[0m\u001b[0m\n\u001b[0m\u001b[1;32m      5\u001b[0m \u001b[0mf\u001b[0m \u001b[0;34m=\u001b[0m \u001b[0mopen\u001b[0m\u001b[0;34m(\u001b[0m\u001b[0mmodel_path\u001b[0m \u001b[0;34m+\u001b[0m \u001b[0;34m\"valid_evaluate.txt\"\u001b[0m\u001b[0;34m,\u001b[0m \u001b[0;34m'a'\u001b[0m\u001b[0;34m)\u001b[0m\u001b[0;34m\u001b[0m\u001b[0;34m\u001b[0m\u001b[0m\n\u001b[1;32m      6\u001b[0m \u001b[0mf\u001b[0m\u001b[0;34m.\u001b[0m\u001b[0mwrite\u001b[0m\u001b[0;34m(\u001b[0m\u001b[0mstr\u001b[0m\u001b[0;34m(\u001b[0m\u001b[0mvalid_abnormal\u001b[0m\u001b[0;34m)\u001b[0m\u001b[0;34m)\u001b[0m\u001b[0;34m\u001b[0m\u001b[0;34m\u001b[0m\u001b[0m\n",
            "\u001b[0;31mNameError\u001b[0m: name 'evaluate' is not defined"
          ]
        }
      ]
    }
  ]
}