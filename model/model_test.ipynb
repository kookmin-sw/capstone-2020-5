{
 "cells": [
  {
   "cell_type": "code",
   "execution_count": 43,
   "metadata": {},
   "outputs": [
    {
     "name": "stdout",
     "output_type": "stream",
     "text": [
      "[PhysicalDevice(name='/physical_device:GPU:0', device_type='GPU')]\n"
     ]
    }
   ],
   "source": [
    "import numpy as np\n",
    "import keras\n",
    "from keras.models import Sequential , Model\n",
    "from keras.layers import Input , RepeatVector , TimeDistributed  , GRU , Bidirectional , LSTM , Dense\n",
    "from keras import regularizers\n",
    "import os\n",
    "import pickle\n",
    "from tensorflow.keras.preprocessing.sequence import pad_sequences\n",
    "from tqdm import tqdm\n",
    "import matplotlib.pyplot as plt\n",
    "import tensorflow as tf\n",
    "import pandas as pd\n",
    "from keras.models import model_from_json\n",
    "from keras.datasets import mnist\n",
    "\n",
    "\n",
    "gpus = tf.config.experimental.list_physical_devices('GPU')\n",
    "print(gpus)\n",
    "if gpus:\n",
    "    try:\n",
    "        tf.config.experimental.set_memory_growth(gpus[0], True)\n",
    "    except RuntimeError as e:\n",
    "        # 프로그램 시작시에 메모리 증가가 설정되어야만 합니다\n",
    "        print(e)\n"
   ]
  },
  {
   "cell_type": "code",
   "execution_count": 67,
   "metadata": {},
   "outputs": [],
   "source": [
    "def bimodel(maxlen,word_vector):\n",
    "    inputs = Input(shape=(maxlen , word_vector))\n",
    "    encoded = Bidirectional(GRU(128 , return_sequences=True , activity_regularizer=regularizers.l2(0.01)))(inputs)\n",
    "    encoded = Bidirectional(GRU(64, return_sequences=False , activity_regularizer=regularizers.l2(0.01)))(encoded)\n",
    "    decoded = RepeatVector(maxlen)(encoded)\n",
    "    decoded = Bidirectional(GRU(64 ,return_sequences=True , activity_regularizer=regularizers.l2(0.01)))(decoded)\n",
    "    decoded = Bidirectional(GRU(word_vector ,return_sequences=True , activity_regularizer=regularizers.l2(0.01)))(decoded)\n",
    "    output = TimeDistributed(Dense(word_vector))(decoded)\n",
    "    sequence_autoencoder = Model(inputs, output)\n",
    "    \n",
    "    encoder = Model(inputs, encoded)\n",
    "    return sequence_autoencoder"
   ]
  },
  {
   "cell_type": "code",
   "execution_count": 68,
   "metadata": {},
   "outputs": [],
   "source": [
    "def origin_model(maxlen , word_vector):\n",
    "    inputs = Input(shape=(maxlen , word_vector))\n",
    "    encoded = GRU(128 , return_sequences=True)(inputs)\n",
    "    encoded = GRU(64, return_sequences=False)(encoded)\n",
    "    decoded = RepeatVector(maxlen)(encoded)\n",
    "    decoded = GRU(64 ,return_sequences=True)(decoded)\n",
    "    decoded = GRU(word_vector ,return_sequences=True)(decoded)\n",
    "    output = TimeDistributed(Dense(word_vector))(decoded)\n",
    "    sequence_autoencoder = Model(inputs, output)\n",
    "    \n",
    "    encoder = Model(inputs, encoded)\n",
    "    return sequence_autoencoder"
   ]
  },
  {
   "cell_type": "code",
   "execution_count": 73,
   "metadata": {},
   "outputs": [],
   "source": [
    "def double_model(maxlen , word_vector):\n",
    "    inputs = Input(shape=(maxlen , word_vector))\n",
    "    encoded = GRU(256 , return_sequences=True)(inputs)\n",
    "    encoded = GRU(128, return_sequences=False)(encoded)\n",
    "    decoded = RepeatVector(maxlen)(encoded)\n",
    "    decoded = GRU(128,return_sequences=True)(decoded)\n",
    "    decoded = GRU(word_vector ,return_sequences=True)(decoded)\n",
    "    output = TimeDistributed(Dense(word_vector))(decoded)\n",
    "    sequence_autoencoder = Model(inputs, output)\n",
    "    \n",
    "    encoder = Model(inputs, encoded)\n",
    "    return sequence_autoencoder"
   ]
  },
  {
   "cell_type": "code",
   "execution_count": 17,
   "metadata": {},
   "outputs": [],
   "source": [
    "def example_model(timesteps , input_dim ,latent_dim):\n",
    "    inputs = Input(shape=(timesteps, input_dim))\n",
    "    encoded = LSTM(latent_dim)(inputs)\n",
    "\n",
    "    decoded = RepeatVector(timesteps)(encoded)\n",
    "    decoded = LSTM(input_dim, return_sequences=True)(decoded)\n",
    "\n",
    "    sequence_autoencoder = Model(inputs, decoded)\n",
    "    encoder = Model(inputs, encoded)\n",
    "    return sequence_autoencoder"
   ]
  },
  {
   "cell_type": "code",
   "execution_count": 33,
   "metadata": {},
   "outputs": [],
   "source": [
    "(x_train, _), (x_test, _) = mnist.load_data()"
   ]
  },
  {
   "cell_type": "code",
   "execution_count": 34,
   "metadata": {},
   "outputs": [],
   "source": [
    "x_train = x_train.astype('float32') / 255.\n",
    "x_test = x_test.astype('float32') / 255.\n",
    "x_train = np.reshape(x_train, (len(x_train), 28, 28))  # 'channels_firtst'이미지 데이터 형식을 사용하는 경우 이를 적용\n",
    "x_test = np.reshape(x_test, (len(x_test), 28, 28))  # 'ch"
   ]
  },
  {
   "cell_type": "code",
   "execution_count": 36,
   "metadata": {},
   "outputs": [
    {
     "data": {
      "text/plain": [
       "(60000, 28, 28)"
      ]
     },
     "execution_count": 36,
     "metadata": {},
     "output_type": "execute_result"
    }
   ],
   "source": [
    "x_train.shape"
   ]
  },
  {
   "cell_type": "code",
   "execution_count": 37,
   "metadata": {},
   "outputs": [],
   "source": [
    "test_model = example_model(28,28,64)"
   ]
  },
  {
   "cell_type": "code",
   "execution_count": 38,
   "metadata": {},
   "outputs": [
    {
     "name": "stdout",
     "output_type": "stream",
     "text": [
      "Model: \"model_9\"\n",
      "_________________________________________________________________\n",
      "Layer (type)                 Output Shape              Param #   \n",
      "=================================================================\n",
      "input_7 (InputLayer)         (None, 28, 28)            0         \n",
      "_________________________________________________________________\n",
      "lstm_9 (LSTM)                (None, 64)                23808     \n",
      "_________________________________________________________________\n",
      "repeat_vector_5 (RepeatVecto (None, 28, 64)            0         \n",
      "_________________________________________________________________\n",
      "lstm_10 (LSTM)               (None, 28, 28)            10416     \n",
      "=================================================================\n",
      "Total params: 34,224\n",
      "Trainable params: 34,224\n",
      "Non-trainable params: 0\n",
      "_________________________________________________________________\n"
     ]
    }
   ],
   "source": [
    "test_model.summary()\n",
    "test_model.compile(optimizer='adadelta', loss='binary_crossentropy')"
   ]
  },
  {
   "cell_type": "code",
   "execution_count": 40,
   "metadata": {
    "scrolled": true
   },
   "outputs": [
    {
     "name": "stdout",
     "output_type": "stream",
     "text": [
      "60000/60000 [==============================] - ETA: 7s - loss: 0.223 - ETA: 7s - loss: 0.223 - ETA: 6s - loss: 0.223 - ETA: 6s - loss: 0.223 - ETA: 6s - loss: 0.223 - ETA: 6s - loss: 0.223 - ETA: 6s - loss: 0.223 - ETA: 6s - loss: 0.223 - ETA: 6s - loss: 0.223 - ETA: 6s - loss: 0.223 - ETA: 6s - loss: 0.223 - ETA: 6s - loss: 0.223 - ETA: 6s - loss: 0.223 - ETA: 6s - loss: 0.223 - ETA: 6s - loss: 0.223 - ETA: 6s - loss: 0.223 - ETA: 6s - loss: 0.223 - ETA: 6s - loss: 0.223 - ETA: 6s - loss: 0.223 - ETA: 6s - loss: 0.223 - ETA: 5s - loss: 0.223 - ETA: 5s - loss: 0.223 - ETA: 5s - loss: 0.223 - ETA: 5s - loss: 0.223 - ETA: 5s - loss: 0.223 - ETA: 5s - loss: 0.223 - ETA: 5s - loss: 0.223 - ETA: 5s - loss: 0.223 - ETA: 5s - loss: 0.223 - ETA: 5s - loss: 0.223 - ETA: 5s - loss: 0.223 - ETA: 5s - loss: 0.223 - ETA: 5s - loss: 0.223 - ETA: 5s - loss: 0.223 - ETA: 5s - loss: 0.223 - ETA: 5s - loss: 0.223 - ETA: 5s - loss: 0.223 - ETA: 5s - loss: 0.223 - ETA: 4s - loss: 0.223 - ETA: 4s - loss: 0.223 - ETA: 4s - loss: 0.223 - ETA: 4s - loss: 0.223 - ETA: 4s - loss: 0.223 - ETA: 4s - loss: 0.223 - ETA: 4s - loss: 0.223 - ETA: 4s - loss: 0.223 - ETA: 4s - loss: 0.223 - ETA: 4s - loss: 0.223 - ETA: 4s - loss: 0.223 - ETA: 4s - loss: 0.223 - ETA: 4s - loss: 0.223 - ETA: 4s - loss: 0.223 - ETA: 4s - loss: 0.223 - ETA: 4s - loss: 0.223 - ETA: 4s - loss: 0.223 - ETA: 4s - loss: 0.223 - ETA: 3s - loss: 0.223 - ETA: 3s - loss: 0.223 - ETA: 3s - loss: 0.223 - ETA: 3s - loss: 0.223 - ETA: 3s - loss: 0.223 - ETA: 3s - loss: 0.223 - ETA: 3s - loss: 0.223 - ETA: 3s - loss: 0.223 - ETA: 3s - loss: 0.223 - ETA: 3s - loss: 0.223 - ETA: 3s - loss: 0.223 - ETA: 3s - loss: 0.223 - ETA: 3s - loss: 0.223 - ETA: 3s - loss: 0.223 - ETA: 3s - loss: 0.223 - ETA: 3s - loss: 0.223 - ETA: 3s - loss: 0.223 - ETA: 3s - loss: 0.223 - ETA: 2s - loss: 0.223 - ETA: 2s - loss: 0.223 - ETA: 2s - loss: 0.223 - ETA: 2s - loss: 0.223 - ETA: 2s - loss: 0.223 - ETA: 2s - loss: 0.223 - ETA: 2s - loss: 0.223 - ETA: 2s - loss: 0.223 - ETA: 2s - loss: 0.223 - ETA: 2s - loss: 0.223 - ETA: 2s - loss: 0.223 - ETA: 2s - loss: 0.223 - ETA: 2s - loss: 0.223 - ETA: 2s - loss: 0.223 - ETA: 2s - loss: 0.223 - ETA: 2s - loss: 0.223 - ETA: 2s - loss: 0.223 - ETA: 2s - loss: 0.223 - ETA: 1s - loss: 0.223 - ETA: 1s - loss: 0.223 - ETA: 1s - loss: 0.223 - ETA: 1s - loss: 0.223 - ETA: 1s - loss: 0.223 - ETA: 1s - loss: 0.223 - ETA: 1s - loss: 0.223 - ETA: 1s - loss: 0.223 - ETA: 1s - loss: 0.223 - ETA: 1s - loss: 0.223 - ETA: 1s - loss: 0.223 - ETA: 1s - loss: 0.223 - ETA: 1s - loss: 0.223 - ETA: 1s - loss: 0.223 - ETA: 1s - loss: 0.223 - ETA: 1s - loss: 0.223 - ETA: 1s - loss: 0.223 - ETA: 1s - loss: 0.223 - ETA: 0s - loss: 0.223 - ETA: 0s - loss: 0.223 - ETA: 0s - loss: 0.223 - ETA: 0s - loss: 0.223 - ETA: 0s - loss: 0.223 - ETA: 0s - loss: 0.223 - ETA: 0s - loss: 0.223 - ETA: 0s - loss: 0.223 - ETA: 0s - loss: 0.223 - ETA: 0s - loss: 0.223 - ETA: 0s - loss: 0.223 - ETA: 0s - loss: 0.223 - ETA: 0s - loss: 0.223 - ETA: 0s - loss: 0.223 - ETA: 0s - loss: 0.223 - ETA: 0s - loss: 0.223 - ETA: 0s - loss: 0.223 - ETA: 0s - loss: 0.223 - 28s 461us/step - loss: 0.2232 - val_loss: 0.2180\n",
      "Epoch 10/50\n"
     ]
    }
   ],
   "source": [
    "test_model.fit(x_train, x_train,\n",
    "                epochs=50,\n",
    "                batch_size=128,\n",
    "                shuffle=True,\n",
    "                validation_data=(x_test, x_test),\n",
    ")"
   ]
  },
  {
   "cell_type": "code",
   "execution_count": 53,
   "metadata": {},
   "outputs": [],
   "source": [
    "bimodel = bimodel(28,28)\n",
    "bimodel.compile(optimizer='adam', loss='mae')"
   ]
  },
  {
   "cell_type": "code",
   "execution_count": 54,
   "metadata": {},
   "outputs": [
    {
     "name": "stdout",
     "output_type": "stream",
     "text": [
      "Model: \"model_17\"\n",
      "_________________________________________________________________\n",
      "Layer (type)                 Output Shape              Param #   \n",
      "=================================================================\n",
      "input_12 (InputLayer)        (None, 28, 28)            0         \n",
      "_________________________________________________________________\n",
      "bidirectional_17 (Bidirectio (None, 28, 256)           120576    \n",
      "_________________________________________________________________\n",
      "bidirectional_18 (Bidirectio (None, 128)               123264    \n",
      "_________________________________________________________________\n",
      "repeat_vector_10 (RepeatVect (None, 28, 128)           0         \n",
      "_________________________________________________________________\n",
      "bidirectional_19 (Bidirectio (None, 28, 128)           74112     \n",
      "_________________________________________________________________\n",
      "bidirectional_20 (Bidirectio (None, 28, 56)            26376     \n",
      "_________________________________________________________________\n",
      "time_distributed_4 (TimeDist (None, 28, 28)            1596      \n",
      "=================================================================\n",
      "Total params: 345,924\n",
      "Trainable params: 345,924\n",
      "Non-trainable params: 0\n",
      "_________________________________________________________________\n"
     ]
    }
   ],
   "source": [
    "bimodel.summary()"
   ]
  },
  {
   "cell_type": "code",
   "execution_count": 55,
   "metadata": {},
   "outputs": [
    {
     "name": "stdout",
     "output_type": "stream",
     "text": [
      "60000/60000 [==============================] - ETA: 29s - loss: 0.42 - ETA: 29s - loss: 0.42 - ETA: 28s - loss: 0.42 - ETA: 28s - loss: 0.42 - ETA: 28s - loss: 0.42 - ETA: 27s - loss: 0.42 - ETA: 27s - loss: 0.42 - ETA: 27s - loss: 0.42 - ETA: 27s - loss: 0.42 - ETA: 26s - loss: 0.42 - ETA: 26s - loss: 0.42 - ETA: 26s - loss: 0.42 - ETA: 26s - loss: 0.42 - ETA: 25s - loss: 0.42 - ETA: 25s - loss: 0.42 - ETA: 25s - loss: 0.42 - ETA: 25s - loss: 0.42 - ETA: 24s - loss: 0.42 - ETA: 24s - loss: 0.42 - ETA: 24s - loss: 0.41 - ETA: 24s - loss: 0.41 - ETA: 23s - loss: 0.41 - ETA: 23s - loss: 0.41 - ETA: 23s - loss: 0.41 - ETA: 23s - loss: 0.41 - ETA: 22s - loss: 0.41 - ETA: 22s - loss: 0.41 - ETA: 22s - loss: 0.41 - ETA: 22s - loss: 0.41 - ETA: 21s - loss: 0.41 - ETA: 21s - loss: 0.41 - ETA: 21s - loss: 0.41 - ETA: 21s - loss: 0.41 - ETA: 20s - loss: 0.41 - ETA: 20s - loss: 0.41 - ETA: 20s - loss: 0.41 - ETA: 20s - loss: 0.41 - ETA: 19s - loss: 0.41 - ETA: 19s - loss: 0.41 - ETA: 19s - loss: 0.41 - ETA: 19s - loss: 0.41 - ETA: 18s - loss: 0.41 - ETA: 18s - loss: 0.41 - ETA: 18s - loss: 0.40 - ETA: 18s - loss: 0.40 - ETA: 17s - loss: 0.40 - ETA: 17s - loss: 0.40 - ETA: 17s - loss: 0.40 - ETA: 17s - loss: 0.40 - ETA: 16s - loss: 0.40 - ETA: 16s - loss: 0.40 - ETA: 16s - loss: 0.40 - ETA: 16s - loss: 0.40 - ETA: 15s - loss: 0.40 - ETA: 15s - loss: 0.40 - ETA: 15s - loss: 0.40 - ETA: 15s - loss: 0.40 - ETA: 14s - loss: 0.40 - ETA: 14s - loss: 0.40 - ETA: 14s - loss: 0.40 - ETA: 14s - loss: 0.40 - ETA: 13s - loss: 0.40 - ETA: 13s - loss: 0.40 - ETA: 13s - loss: 0.40 - ETA: 13s - loss: 0.40 - ETA: 12s - loss: 0.40 - ETA: 12s - loss: 0.40 - ETA: 12s - loss: 0.40 - ETA: 12s - loss: 0.40 - ETA: 11s - loss: 0.40 - ETA: 11s - loss: 0.40 - ETA: 11s - loss: 0.40 - ETA: 11s - loss: 0.40 - ETA: 10s - loss: 0.39 - ETA: 10s - loss: 0.39 - ETA: 10s - loss: 0.39 - ETA: 10s - loss: 0.39 - ETA: 9s - loss: 0.3984 - ETA: 9s - loss: 0.398 - ETA: 9s - loss: 0.397 - ETA: 9s - loss: 0.397 - ETA: 8s - loss: 0.397 - ETA: 8s - loss: 0.396 - ETA: 8s - loss: 0.396 - ETA: 8s - loss: 0.396 - ETA: 7s - loss: 0.395 - ETA: 7s - loss: 0.395 - ETA: 7s - loss: 0.395 - ETA: 7s - loss: 0.395 - ETA: 6s - loss: 0.394 - ETA: 6s - loss: 0.394 - ETA: 6s - loss: 0.394 - ETA: 6s - loss: 0.393 - ETA: 5s - loss: 0.393 - ETA: 5s - loss: 0.393 - ETA: 5s - loss: 0.392 - ETA: 5s - loss: 0.392 - ETA: 4s - loss: 0.391 - ETA: 4s - loss: 0.391 - ETA: 4s - loss: 0.391 - ETA: 4s - loss: 0.390 - ETA: 3s - loss: 0.390 - ETA: 3s - loss: 0.390 - ETA: 3s - loss: 0.390 - ETA: 3s - loss: 0.389 - ETA: 2s - loss: 0.389 - ETA: 2s - loss: 0.388 - ETA: 2s - loss: 0.388 - ETA: 2s - loss: 0.388 - ETA: 1s - loss: 0.388 - ETA: 1s - loss: 0.387 - ETA: 1s - loss: 0.387 - ETA: 1s - loss: 0.387 - ETA: 0s - loss: 0.386 - ETA: 0s - loss: 0.386 - ETA: 0s - loss: 0.386 - ETA: 0s - loss: 0.385 - 32s 529us/step - loss: 0.3853 - val_loss: 0.3511\n",
      "Epoch 10/10\n",
      "60000/60000 [==============================] - ETA: 29s - loss: 0.35 - ETA: 29s - loss: 0.34 - ETA: 28s - loss: 0.34 - ETA: 28s - loss: 0.34 - ETA: 28s - loss: 0.34 - ETA: 27s - loss: 0.34 - ETA: 27s - loss: 0.34 - ETA: 27s - loss: 0.34 - ETA: 27s - loss: 0.34 - ETA: 26s - loss: 0.34 - ETA: 26s - loss: 0.34 - ETA: 26s - loss: 0.34 - ETA: 26s - loss: 0.34 - ETA: 25s - loss: 0.34 - ETA: 25s - loss: 0.34 - ETA: 25s - loss: 0.34 - ETA: 25s - loss: 0.34 - ETA: 24s - loss: 0.34 - ETA: 24s - loss: 0.34 - ETA: 24s - loss: 0.34 - ETA: 24s - loss: 0.34 - ETA: 23s - loss: 0.34 - ETA: 23s - loss: 0.34 - ETA: 23s - loss: 0.34 - ETA: 23s - loss: 0.34 - ETA: 22s - loss: 0.34 - ETA: 22s - loss: 0.34 - ETA: 22s - loss: 0.34 - ETA: 22s - loss: 0.34 - ETA: 21s - loss: 0.34 - ETA: 21s - loss: 0.34 - ETA: 21s - loss: 0.34 - ETA: 21s - loss: 0.34 - ETA: 20s - loss: 0.34 - ETA: 20s - loss: 0.34 - ETA: 20s - loss: 0.34 - ETA: 20s - loss: 0.33 - ETA: 19s - loss: 0.33 - ETA: 19s - loss: 0.33 - ETA: 19s - loss: 0.33 - ETA: 19s - loss: 0.33 - ETA: 18s - loss: 0.33 - ETA: 18s - loss: 0.33 - ETA: 18s - loss: 0.33 - ETA: 18s - loss: 0.33 - ETA: 17s - loss: 0.33 - ETA: 17s - loss: 0.33 - ETA: 17s - loss: 0.33 - ETA: 17s - loss: 0.33 - ETA: 16s - loss: 0.33 - ETA: 16s - loss: 0.33 - ETA: 16s - loss: 0.33 - ETA: 16s - loss: 0.33 - ETA: 15s - loss: 0.33 - ETA: 15s - loss: 0.33 - ETA: 15s - loss: 0.33 - ETA: 15s - loss: 0.33 - ETA: 14s - loss: 0.33 - ETA: 14s - loss: 0.33 - ETA: 14s - loss: 0.33 - ETA: 14s - loss: 0.33 - ETA: 13s - loss: 0.33 - ETA: 13s - loss: 0.33 - ETA: 13s - loss: 0.33 - ETA: 13s - loss: 0.33 - ETA: 12s - loss: 0.33 - ETA: 12s - loss: 0.33 - ETA: 12s - loss: 0.33 - ETA: 12s - loss: 0.33 - ETA: 11s - loss: 0.33 - ETA: 11s - loss: 0.33 - ETA: 11s - loss: 0.33 - ETA: 11s - loss: 0.33 - ETA: 10s - loss: 0.33 - ETA: 10s - loss: 0.33 - ETA: 10s - loss: 0.33 - ETA: 10s - loss: 0.33 - ETA: 9s - loss: 0.3303 - ETA: 9s - loss: 0.330 - ETA: 9s - loss: 0.330 - ETA: 9s - loss: 0.329 - ETA: 8s - loss: 0.329 - ETA: 8s - loss: 0.329 - ETA: 8s - loss: 0.329 - ETA: 8s - loss: 0.328 - ETA: 7s - loss: 0.328 - ETA: 7s - loss: 0.328 - ETA: 7s - loss: 0.328 - ETA: 7s - loss: 0.327 - ETA: 6s - loss: 0.327 - ETA: 6s - loss: 0.327 - ETA: 6s - loss: 0.327 - ETA: 6s - loss: 0.327 - ETA: 5s - loss: 0.326 - ETA: 5s - loss: 0.326 - ETA: 5s - loss: 0.326 - ETA: 5s - loss: 0.326 - ETA: 4s - loss: 0.325 - ETA: 4s - loss: 0.325 - ETA: 4s - loss: 0.325 - ETA: 4s - loss: 0.325 - ETA: 3s - loss: 0.325 - ETA: 3s - loss: 0.324 - ETA: 3s - loss: 0.324 - ETA: 3s - loss: 0.324 - ETA: 2s - loss: 0.324 - ETA: 2s - loss: 0.323 - ETA: 2s - loss: 0.323 - ETA: 2s - loss: 0.323 - ETA: 1s - loss: 0.323 - ETA: 1s - loss: 0.322 - ETA: 1s - loss: 0.322 - ETA: 1s - loss: 0.322 - ETA: 0s - loss: 0.322 - ETA: 0s - loss: 0.322 - ETA: 0s - loss: 0.321 - ETA: 0s - loss: 0.321 - 32s 532us/step - loss: 0.3213 - val_loss: 0.2975\n"
     ]
    },
    {
     "data": {
      "text/plain": [
       "<keras.callbacks.callbacks.History at 0x1de1a050288>"
      ]
     },
     "execution_count": 55,
     "metadata": {},
     "output_type": "execute_result"
    }
   ],
   "source": [
    "bimodel.fit(x_train, x_train,\n",
    "                epochs=10,\n",
    "                batch_size=512,\n",
    "                shuffle=True,\n",
    "                validation_data=(x_test, x_test),\n",
    ")"
   ]
  },
  {
   "cell_type": "code",
   "execution_count": 70,
   "metadata": {},
   "outputs": [],
   "source": [
    "origin_model1 = origin_model(28,28)\n",
    "\n",
    "origin_model1.compile(optimizer='adam', loss='mae')"
   ]
  },
  {
   "cell_type": "code",
   "execution_count": 71,
   "metadata": {},
   "outputs": [
    {
     "name": "stdout",
     "output_type": "stream",
     "text": [
      "Model: \"model_25\"\n",
      "_________________________________________________________________\n",
      "Layer (type)                 Output Shape              Param #   \n",
      "=================================================================\n",
      "input_16 (InputLayer)        (None, 28, 28)            0         \n",
      "_________________________________________________________________\n",
      "gru_33 (GRU)                 (None, 28, 128)           60288     \n",
      "_________________________________________________________________\n",
      "gru_34 (GRU)                 (None, 64)                37056     \n",
      "_________________________________________________________________\n",
      "repeat_vector_14 (RepeatVect (None, 28, 64)            0         \n",
      "_________________________________________________________________\n",
      "gru_35 (GRU)                 (None, 28, 64)            24768     \n",
      "_________________________________________________________________\n",
      "gru_36 (GRU)                 (None, 28, 28)            7812      \n",
      "_________________________________________________________________\n",
      "time_distributed_8 (TimeDist (None, 28, 28)            812       \n",
      "=================================================================\n",
      "Total params: 130,736\n",
      "Trainable params: 130,736\n",
      "Non-trainable params: 0\n",
      "_________________________________________________________________\n"
     ]
    }
   ],
   "source": [
    "origin_model1.summary()"
   ]
  },
  {
   "cell_type": "code",
   "execution_count": 72,
   "metadata": {
    "scrolled": true
   },
   "outputs": [
    {
     "name": "stdout",
     "output_type": "stream",
     "text": [
      "60000/60000 [==============================] - ETA: 14s - loss: 0.09 - ETA: 14s - loss: 0.09 - ETA: 14s - loss: 0.09 - ETA: 14s - loss: 0.09 - ETA: 14s - loss: 0.09 - ETA: 14s - loss: 0.09 - ETA: 14s - loss: 0.09 - ETA: 13s - loss: 0.09 - ETA: 13s - loss: 0.09 - ETA: 13s - loss: 0.09 - ETA: 13s - loss: 0.09 - ETA: 13s - loss: 0.09 - ETA: 13s - loss: 0.09 - ETA: 13s - loss: 0.09 - ETA: 13s - loss: 0.09 - ETA: 12s - loss: 0.09 - ETA: 12s - loss: 0.09 - ETA: 12s - loss: 0.09 - ETA: 12s - loss: 0.09 - ETA: 12s - loss: 0.09 - ETA: 12s - loss: 0.09 - ETA: 12s - loss: 0.09 - ETA: 12s - loss: 0.09 - ETA: 11s - loss: 0.09 - ETA: 11s - loss: 0.09 - ETA: 11s - loss: 0.09 - ETA: 11s - loss: 0.09 - ETA: 11s - loss: 0.09 - ETA: 11s - loss: 0.09 - ETA: 11s - loss: 0.09 - ETA: 11s - loss: 0.09 - ETA: 10s - loss: 0.09 - ETA: 10s - loss: 0.09 - ETA: 10s - loss: 0.09 - ETA: 10s - loss: 0.09 - ETA: 10s - loss: 0.09 - ETA: 10s - loss: 0.09 - ETA: 10s - loss: 0.09 - ETA: 10s - loss: 0.09 - ETA: 9s - loss: 0.0953 - ETA: 9s - loss: 0.095 - ETA: 9s - loss: 0.095 - ETA: 9s - loss: 0.095 - ETA: 9s - loss: 0.095 - ETA: 9s - loss: 0.095 - ETA: 9s - loss: 0.095 - ETA: 8s - loss: 0.095 - ETA: 8s - loss: 0.095 - ETA: 8s - loss: 0.095 - ETA: 8s - loss: 0.095 - ETA: 8s - loss: 0.095 - ETA: 8s - loss: 0.095 - ETA: 8s - loss: 0.095 - ETA: 8s - loss: 0.095 - ETA: 7s - loss: 0.095 - ETA: 7s - loss: 0.095 - ETA: 7s - loss: 0.095 - ETA: 7s - loss: 0.095 - ETA: 7s - loss: 0.095 - ETA: 7s - loss: 0.095 - ETA: 7s - loss: 0.095 - ETA: 7s - loss: 0.095 - ETA: 6s - loss: 0.095 - ETA: 6s - loss: 0.095 - ETA: 6s - loss: 0.095 - ETA: 6s - loss: 0.095 - ETA: 6s - loss: 0.095 - ETA: 6s - loss: 0.095 - ETA: 6s - loss: 0.095 - ETA: 6s - loss: 0.095 - ETA: 5s - loss: 0.095 - ETA: 5s - loss: 0.095 - ETA: 5s - loss: 0.095 - ETA: 5s - loss: 0.095 - ETA: 5s - loss: 0.095 - ETA: 5s - loss: 0.095 - ETA: 5s - loss: 0.095 - ETA: 5s - loss: 0.095 - ETA: 4s - loss: 0.095 - ETA: 4s - loss: 0.095 - ETA: 4s - loss: 0.095 - ETA: 4s - loss: 0.095 - ETA: 4s - loss: 0.095 - ETA: 4s - loss: 0.095 - ETA: 4s - loss: 0.095 - ETA: 4s - loss: 0.095 - ETA: 3s - loss: 0.095 - ETA: 3s - loss: 0.095 - ETA: 3s - loss: 0.095 - ETA: 3s - loss: 0.095 - ETA: 3s - loss: 0.095 - ETA: 3s - loss: 0.095 - ETA: 3s - loss: 0.095 - ETA: 2s - loss: 0.095 - ETA: 2s - loss: 0.095 - ETA: 2s - loss: 0.095 - ETA: 2s - loss: 0.095 - ETA: 2s - loss: 0.095 - ETA: 2s - loss: 0.094 - ETA: 2s - loss: 0.094 - ETA: 2s - loss: 0.094 - ETA: 1s - loss: 0.094 - ETA: 1s - loss: 0.094 - ETA: 1s - loss: 0.094 - ETA: 1s - loss: 0.094 - ETA: 1s - loss: 0.094 - ETA: 1s - loss: 0.094 - ETA: 1s - loss: 0.094 - ETA: 1s - loss: 0.094 - ETA: 0s - loss: 0.094 - ETA: 0s - loss: 0.094 - ETA: 0s - loss: 0.094 - ETA: 0s - loss: 0.094 - ETA: 0s - loss: 0.094 - ETA: 0s - loss: 0.094 - ETA: 0s - loss: 0.094 - ETA: 0s - loss: 0.094 - 16s 269us/step - loss: 0.0946 - val_loss: 0.0925\n",
      "Epoch 10/10\n",
      "60000/60000 [==============================] - ETA: 14s - loss: 0.09 - ETA: 14s - loss: 0.09 - ETA: 14s - loss: 0.09 - ETA: 14s - loss: 0.09 - ETA: 14s - loss: 0.09 - ETA: 14s - loss: 0.09 - ETA: 13s - loss: 0.09 - ETA: 13s - loss: 0.09 - ETA: 13s - loss: 0.09 - ETA: 13s - loss: 0.09 - ETA: 13s - loss: 0.09 - ETA: 13s - loss: 0.09 - ETA: 13s - loss: 0.09 - ETA: 13s - loss: 0.09 - ETA: 13s - loss: 0.09 - ETA: 12s - loss: 0.09 - ETA: 12s - loss: 0.09 - ETA: 12s - loss: 0.09 - ETA: 12s - loss: 0.09 - ETA: 12s - loss: 0.09 - ETA: 12s - loss: 0.09 - ETA: 12s - loss: 0.09 - ETA: 12s - loss: 0.09 - ETA: 11s - loss: 0.09 - ETA: 11s - loss: 0.09 - ETA: 11s - loss: 0.09 - ETA: 11s - loss: 0.09 - ETA: 11s - loss: 0.09 - ETA: 11s - loss: 0.09 - ETA: 11s - loss: 0.09 - ETA: 11s - loss: 0.09 - ETA: 10s - loss: 0.09 - ETA: 10s - loss: 0.09 - ETA: 10s - loss: 0.09 - ETA: 10s - loss: 0.09 - ETA: 10s - loss: 0.09 - ETA: 10s - loss: 0.09 - ETA: 10s - loss: 0.09 - ETA: 9s - loss: 0.0923 - ETA: 9s - loss: 0.092 - ETA: 9s - loss: 0.092 - ETA: 9s - loss: 0.092 - ETA: 9s - loss: 0.092 - ETA: 9s - loss: 0.092 - ETA: 9s - loss: 0.092 - ETA: 9s - loss: 0.092 - ETA: 8s - loss: 0.092 - ETA: 8s - loss: 0.092 - ETA: 8s - loss: 0.092 - ETA: 8s - loss: 0.092 - ETA: 8s - loss: 0.092 - ETA: 8s - loss: 0.092 - ETA: 8s - loss: 0.092 - ETA: 8s - loss: 0.092 - ETA: 7s - loss: 0.092 - ETA: 7s - loss: 0.092 - ETA: 7s - loss: 0.092 - ETA: 7s - loss: 0.092 - ETA: 7s - loss: 0.092 - ETA: 7s - loss: 0.092 - ETA: 7s - loss: 0.092 - ETA: 7s - loss: 0.092 - ETA: 6s - loss: 0.092 - ETA: 6s - loss: 0.092 - ETA: 6s - loss: 0.092 - ETA: 6s - loss: 0.092 - ETA: 6s - loss: 0.092 - ETA: 6s - loss: 0.092 - ETA: 6s - loss: 0.092 - ETA: 6s - loss: 0.092 - ETA: 5s - loss: 0.092 - ETA: 5s - loss: 0.092 - ETA: 5s - loss: 0.092 - ETA: 5s - loss: 0.092 - ETA: 5s - loss: 0.092 - ETA: 5s - loss: 0.092 - ETA: 5s - loss: 0.092 - ETA: 5s - loss: 0.092 - ETA: 4s - loss: 0.092 - ETA: 4s - loss: 0.092 - ETA: 4s - loss: 0.092 - ETA: 4s - loss: 0.092 - ETA: 4s - loss: 0.091 - ETA: 4s - loss: 0.091 - ETA: 4s - loss: 0.091 - ETA: 3s - loss: 0.091 - ETA: 3s - loss: 0.091 - ETA: 3s - loss: 0.091 - ETA: 3s - loss: 0.091 - ETA: 3s - loss: 0.091 - ETA: 3s - loss: 0.091 - ETA: 3s - loss: 0.091 - ETA: 3s - loss: 0.091 - ETA: 2s - loss: 0.091 - ETA: 2s - loss: 0.091 - ETA: 2s - loss: 0.091 - ETA: 2s - loss: 0.091 - ETA: 2s - loss: 0.091 - ETA: 2s - loss: 0.091 - ETA: 2s - loss: 0.091 - ETA: 2s - loss: 0.091 - ETA: 1s - loss: 0.091 - ETA: 1s - loss: 0.091 - ETA: 1s - loss: 0.091 - ETA: 1s - loss: 0.091 - ETA: 1s - loss: 0.091 - ETA: 1s - loss: 0.091 - ETA: 1s - loss: 0.091 - ETA: 1s - loss: 0.091 - ETA: 0s - loss: 0.091 - ETA: 0s - loss: 0.091 - ETA: 0s - loss: 0.091 - ETA: 0s - loss: 0.091 - ETA: 0s - loss: 0.091 - ETA: 0s - loss: 0.091 - ETA: 0s - loss: 0.091 - ETA: 0s - loss: 0.091 - 16s 268us/step - loss: 0.0915 - val_loss: 0.0897\n"
     ]
    },
    {
     "data": {
      "text/plain": [
       "<keras.callbacks.callbacks.History at 0x1de5bb96488>"
      ]
     },
     "execution_count": 72,
     "metadata": {},
     "output_type": "execute_result"
    }
   ],
   "source": [
    "origin_model1.fit(x_train, x_train,\n",
    "                epochs=10,\n",
    "                batch_size=512,\n",
    "                shuffle=True,\n",
    "                validation_data=(x_test, x_test),\n",
    ")"
   ]
  },
  {
   "cell_type": "code",
   "execution_count": 74,
   "metadata": {},
   "outputs": [],
   "source": [
    "double_model = double_model(28,28)\n",
    "double_model.compile(optimizer='adam', loss='mae')"
   ]
  },
  {
   "cell_type": "code",
   "execution_count": 75,
   "metadata": {},
   "outputs": [
    {
     "name": "stdout",
     "output_type": "stream",
     "text": [
      "Model: \"model_27\"\n",
      "_________________________________________________________________\n",
      "Layer (type)                 Output Shape              Param #   \n",
      "=================================================================\n",
      "input_17 (InputLayer)        (None, 28, 28)            0         \n",
      "_________________________________________________________________\n",
      "gru_37 (GRU)                 (None, 28, 256)           218880    \n",
      "_________________________________________________________________\n",
      "gru_38 (GRU)                 (None, 128)               147840    \n",
      "_________________________________________________________________\n",
      "repeat_vector_15 (RepeatVect (None, 28, 128)           0         \n",
      "_________________________________________________________________\n",
      "gru_39 (GRU)                 (None, 28, 128)           98688     \n",
      "_________________________________________________________________\n",
      "gru_40 (GRU)                 (None, 28, 28)            13188     \n",
      "_________________________________________________________________\n",
      "time_distributed_9 (TimeDist (None, 28, 28)            812       \n",
      "=================================================================\n",
      "Total params: 479,408\n",
      "Trainable params: 479,408\n",
      "Non-trainable params: 0\n",
      "_________________________________________________________________\n"
     ]
    }
   ],
   "source": [
    "double_model.summary()"
   ]
  },
  {
   "cell_type": "code",
   "execution_count": 76,
   "metadata": {},
   "outputs": [
    {
     "name": "stdout",
     "output_type": "stream",
     "text": [
      "60000/60000 [==============================] - ETA: 15s - loss: 0.08 - ETA: 15s - loss: 0.08 - ETA: 15s - loss: 0.07 - ETA: 15s - loss: 0.07 - ETA: 15s - loss: 0.07 - ETA: 15s - loss: 0.07 - ETA: 14s - loss: 0.07 - ETA: 14s - loss: 0.07 - ETA: 14s - loss: 0.07 - ETA: 14s - loss: 0.07 - ETA: 14s - loss: 0.07 - ETA: 14s - loss: 0.07 - ETA: 14s - loss: 0.07 - ETA: 13s - loss: 0.07 - ETA: 13s - loss: 0.07 - ETA: 13s - loss: 0.07 - ETA: 13s - loss: 0.07 - ETA: 13s - loss: 0.07 - ETA: 13s - loss: 0.07 - ETA: 13s - loss: 0.07 - ETA: 13s - loss: 0.07 - ETA: 12s - loss: 0.07 - ETA: 12s - loss: 0.07 - ETA: 12s - loss: 0.07 - ETA: 12s - loss: 0.07 - ETA: 12s - loss: 0.07 - ETA: 12s - loss: 0.07 - ETA: 12s - loss: 0.07 - ETA: 11s - loss: 0.07 - ETA: 11s - loss: 0.07 - ETA: 11s - loss: 0.07 - ETA: 11s - loss: 0.07 - ETA: 11s - loss: 0.07 - ETA: 11s - loss: 0.07 - ETA: 11s - loss: 0.07 - ETA: 10s - loss: 0.07 - ETA: 10s - loss: 0.07 - ETA: 10s - loss: 0.07 - ETA: 10s - loss: 0.07 - ETA: 10s - loss: 0.07 - ETA: 10s - loss: 0.07 - ETA: 10s - loss: 0.07 - ETA: 9s - loss: 0.0774 - ETA: 9s - loss: 0.077 - ETA: 9s - loss: 0.077 - ETA: 9s - loss: 0.077 - ETA: 9s - loss: 0.077 - ETA: 9s - loss: 0.077 - ETA: 9s - loss: 0.077 - ETA: 9s - loss: 0.077 - ETA: 8s - loss: 0.077 - ETA: 8s - loss: 0.077 - ETA: 8s - loss: 0.077 - ETA: 8s - loss: 0.077 - ETA: 8s - loss: 0.077 - ETA: 8s - loss: 0.077 - ETA: 8s - loss: 0.077 - ETA: 7s - loss: 0.077 - ETA: 7s - loss: 0.077 - ETA: 7s - loss: 0.077 - ETA: 7s - loss: 0.077 - ETA: 7s - loss: 0.077 - ETA: 7s - loss: 0.077 - ETA: 7s - loss: 0.077 - ETA: 7s - loss: 0.077 - ETA: 6s - loss: 0.077 - ETA: 6s - loss: 0.077 - ETA: 6s - loss: 0.076 - ETA: 6s - loss: 0.076 - ETA: 6s - loss: 0.076 - ETA: 6s - loss: 0.077 - ETA: 6s - loss: 0.076 - ETA: 5s - loss: 0.076 - ETA: 5s - loss: 0.076 - ETA: 5s - loss: 0.076 - ETA: 5s - loss: 0.076 - ETA: 5s - loss: 0.076 - ETA: 5s - loss: 0.076 - ETA: 5s - loss: 0.076 - ETA: 5s - loss: 0.076 - ETA: 4s - loss: 0.076 - ETA: 4s - loss: 0.076 - ETA: 4s - loss: 0.076 - ETA: 4s - loss: 0.076 - ETA: 4s - loss: 0.076 - ETA: 4s - loss: 0.076 - ETA: 4s - loss: 0.076 - ETA: 3s - loss: 0.076 - ETA: 3s - loss: 0.076 - ETA: 3s - loss: 0.076 - ETA: 3s - loss: 0.076 - ETA: 3s - loss: 0.076 - ETA: 3s - loss: 0.076 - ETA: 3s - loss: 0.076 - ETA: 2s - loss: 0.076 - ETA: 2s - loss: 0.076 - ETA: 2s - loss: 0.076 - ETA: 2s - loss: 0.076 - ETA: 2s - loss: 0.076 - ETA: 2s - loss: 0.076 - ETA: 2s - loss: 0.076 - ETA: 2s - loss: 0.076 - ETA: 1s - loss: 0.076 - ETA: 1s - loss: 0.076 - ETA: 1s - loss: 0.076 - ETA: 1s - loss: 0.076 - ETA: 1s - loss: 0.076 - ETA: 1s - loss: 0.076 - ETA: 1s - loss: 0.076 - ETA: 0s - loss: 0.076 - ETA: 0s - loss: 0.076 - ETA: 0s - loss: 0.076 - ETA: 0s - loss: 0.076 - ETA: 0s - loss: 0.076 - ETA: 0s - loss: 0.076 - ETA: 0s - loss: 0.076 - ETA: 0s - loss: 0.076 - 17s 282us/step - loss: 0.0760 - val_loss: 0.0732\n",
      "Epoch 10/10\n",
      "60000/60000 [==============================] - ETA: 15s - loss: 0.07 - ETA: 15s - loss: 0.07 - ETA: 15s - loss: 0.07 - ETA: 15s - loss: 0.07 - ETA: 15s - loss: 0.07 - ETA: 14s - loss: 0.07 - ETA: 14s - loss: 0.07 - ETA: 14s - loss: 0.07 - ETA: 14s - loss: 0.07 - ETA: 14s - loss: 0.07 - ETA: 14s - loss: 0.07 - ETA: 14s - loss: 0.07 - ETA: 14s - loss: 0.07 - ETA: 13s - loss: 0.07 - ETA: 13s - loss: 0.07 - ETA: 13s - loss: 0.07 - ETA: 13s - loss: 0.07 - ETA: 13s - loss: 0.07 - ETA: 13s - loss: 0.07 - ETA: 13s - loss: 0.07 - ETA: 12s - loss: 0.07 - ETA: 12s - loss: 0.07 - ETA: 12s - loss: 0.07 - ETA: 12s - loss: 0.07 - ETA: 12s - loss: 0.07 - ETA: 12s - loss: 0.07 - ETA: 12s - loss: 0.07 - ETA: 12s - loss: 0.07 - ETA: 11s - loss: 0.07 - ETA: 11s - loss: 0.07 - ETA: 11s - loss: 0.07 - ETA: 11s - loss: 0.07 - ETA: 11s - loss: 0.07 - ETA: 11s - loss: 0.07 - ETA: 11s - loss: 0.07 - ETA: 11s - loss: 0.07 - ETA: 10s - loss: 0.07 - ETA: 10s - loss: 0.07 - ETA: 10s - loss: 0.07 - ETA: 10s - loss: 0.07 - ETA: 10s - loss: 0.07 - ETA: 10s - loss: 0.07 - ETA: 10s - loss: 0.07 - ETA: 9s - loss: 0.0733 - ETA: 9s - loss: 0.073 - ETA: 9s - loss: 0.073 - ETA: 9s - loss: 0.073 - ETA: 9s - loss: 0.073 - ETA: 9s - loss: 0.073 - ETA: 9s - loss: 0.073 - ETA: 8s - loss: 0.073 - ETA: 8s - loss: 0.073 - ETA: 8s - loss: 0.073 - ETA: 8s - loss: 0.073 - ETA: 8s - loss: 0.073 - ETA: 8s - loss: 0.073 - ETA: 8s - loss: 0.073 - ETA: 8s - loss: 0.073 - ETA: 7s - loss: 0.073 - ETA: 7s - loss: 0.073 - ETA: 7s - loss: 0.073 - ETA: 7s - loss: 0.072 - ETA: 7s - loss: 0.072 - ETA: 7s - loss: 0.072 - ETA: 7s - loss: 0.072 - ETA: 6s - loss: 0.072 - ETA: 6s - loss: 0.072 - ETA: 6s - loss: 0.072 - ETA: 6s - loss: 0.072 - ETA: 6s - loss: 0.072 - ETA: 6s - loss: 0.072 - ETA: 6s - loss: 0.072 - ETA: 5s - loss: 0.072 - ETA: 5s - loss: 0.072 - ETA: 5s - loss: 0.072 - ETA: 5s - loss: 0.072 - ETA: 5s - loss: 0.072 - ETA: 5s - loss: 0.072 - ETA: 5s - loss: 0.072 - ETA: 5s - loss: 0.072 - ETA: 4s - loss: 0.072 - ETA: 4s - loss: 0.072 - ETA: 4s - loss: 0.072 - ETA: 4s - loss: 0.072 - ETA: 4s - loss: 0.072 - ETA: 4s - loss: 0.072 - ETA: 4s - loss: 0.072 - ETA: 3s - loss: 0.072 - ETA: 3s - loss: 0.072 - ETA: 3s - loss: 0.072 - ETA: 3s - loss: 0.072 - ETA: 3s - loss: 0.072 - ETA: 3s - loss: 0.072 - ETA: 3s - loss: 0.072 - ETA: 3s - loss: 0.072 - ETA: 2s - loss: 0.072 - ETA: 2s - loss: 0.072 - ETA: 2s - loss: 0.072 - ETA: 2s - loss: 0.072 - ETA: 2s - loss: 0.072 - ETA: 2s - loss: 0.072 - ETA: 2s - loss: 0.072 - ETA: 1s - loss: 0.072 - ETA: 1s - loss: 0.072 - ETA: 1s - loss: 0.072 - ETA: 1s - loss: 0.072 - ETA: 1s - loss: 0.072 - ETA: 1s - loss: 0.072 - ETA: 1s - loss: 0.072 - ETA: 0s - loss: 0.072 - ETA: 0s - loss: 0.072 - ETA: 0s - loss: 0.072 - ETA: 0s - loss: 0.071 - ETA: 0s - loss: 0.071 - ETA: 0s - loss: 0.071 - ETA: 0s - loss: 0.071 - ETA: 0s - loss: 0.071 - 17s 283us/step - loss: 0.0719 - val_loss: 0.0692\n"
     ]
    },
    {
     "data": {
      "text/plain": [
       "<keras.callbacks.callbacks.History at 0x1de62979bc8>"
      ]
     },
     "execution_count": 76,
     "metadata": {},
     "output_type": "execute_result"
    }
   ],
   "source": [
    "double_model.fit(x_train, x_train,\n",
    "                epochs=10,\n",
    "                batch_size=512,\n",
    "                shuffle=True,\n",
    "                validation_data=(x_test, x_test),\n",
    ")"
   ]
  },
  {
   "cell_type": "code",
   "execution_count": null,
   "metadata": {},
   "outputs": [],
   "source": []
  }
 ],
 "metadata": {
  "kernelspec": {
   "display_name": "Python 3",
   "language": "python",
   "name": "python3"
  },
  "language_info": {
   "codemirror_mode": {
    "name": "ipython",
    "version": 3
   },
   "file_extension": ".py",
   "mimetype": "text/x-python",
   "name": "python",
   "nbconvert_exporter": "python",
   "pygments_lexer": "ipython3",
   "version": "3.7.4"
  }
 },
 "nbformat": 4,
 "nbformat_minor": 2
}
